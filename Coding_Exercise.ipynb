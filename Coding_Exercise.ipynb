{
  "nbformat": 4,
  "nbformat_minor": 0,
  "metadata": {
    "colab": {
      "name": "Coding Exercise.ipynb",
      "provenance": [],
      "collapsed_sections": [],
      "authorship_tag": "ABX9TyOHlkh07w7AV60eR31hyhxL",
      "include_colab_link": true
    },
    "kernelspec": {
      "name": "python3",
      "display_name": "Python 3"
    }
  },
  "cells": [
    {
      "cell_type": "markdown",
      "metadata": {
        "id": "view-in-github",
        "colab_type": "text"
      },
      "source": [
        "<a href=\"https://colab.research.google.com/github/sumitpurandare/python_essentials/blob/master/Coding_Exercise.ipynb\" target=\"_parent\"><img src=\"https://colab.research.google.com/assets/colab-badge.svg\" alt=\"Open In Colab\"/></a>"
      ]
    },
    {
      "cell_type": "code",
      "metadata": {
        "colab": {
          "base_uri": "https://localhost:8080/"
        },
        "id": "ikUulIITXNTQ",
        "outputId": "36e42ecd-a1cc-4327-87a0-42732786dbdc"
      },
      "source": [
        "tuple_1 = (1,2,3,4,5,6,7,8,9,10)\n",
        "tupl_1 = []\n",
        "tupl_2 = []\n",
        "\n",
        "for i in range(0,5):\n",
        "  tupl_1.append(tuple_1[i])\n",
        "  \n",
        "for i in range(5,10):\n",
        "  tupl_2.append(tuple_1[i])\n",
        "  \n",
        "print(tupl_1)\n",
        "print(tupl_2)\n",
        "\n",
        "\n"
      ],
      "execution_count": null,
      "outputs": [
        {
          "output_type": "stream",
          "text": [
            "[1, 2, 3, 4, 5]\n",
            "[6, 7, 8, 9, 10]\n"
          ],
          "name": "stdout"
        }
      ]
    },
    {
      "cell_type": "code",
      "metadata": {
        "colab": {
          "base_uri": "https://localhost:8080/"
        },
        "id": "A4coy0s8bKzZ",
        "outputId": "bee2747f-ce4c-4135-9032-319da94c257d"
      },
      "source": [
        "tup = (1,2,3,4,5,6,7,8,9,10)\n",
        "tupl = []\n",
        "\n",
        "for i in range(0,10):\n",
        "  if i%2 !=0:\n",
        "    tupl.append(tup[i])\n",
        "    \n",
        "\n",
        "print(tupl)  "
      ],
      "execution_count": null,
      "outputs": [
        {
          "output_type": "stream",
          "text": [
            "[2, 4, 6, 8, 10]\n"
          ],
          "name": "stdout"
        }
      ]
    },
    {
      "cell_type": "code",
      "metadata": {
        "colab": {
          "base_uri": "https://localhost:8080/"
        },
        "id": "uKVTWI4zdF__",
        "outputId": "bf3b6440-aeae-4aa5-ed30-ed15f25f7c8c"
      },
      "source": [
        "tpl1 = filter(lambda x:x%2==0,tup)"
      ],
      "execution_count": null,
      "outputs": [
        {
          "output_type": "stream",
          "text": [
            "(1, 2, 3, 4, 5, 6, 7, 8, 9, 10)\n"
          ],
          "name": "stdout"
        }
      ]
    },
    {
      "cell_type": "code",
      "metadata": {
        "colab": {
          "base_uri": "https://localhost:8080/"
        },
        "id": "VrXppuqmeQZm",
        "outputId": "3c01254a-7710-4e27-c6a6-693bd6d1e577"
      },
      "source": [
        "user_input = input(\"Enter a string (yes YES or Yes\")\n",
        "if (user_input == 'YES' or user_input == 'Yes' or user_input == 'yes'):\n",
        "  print('yes')\n",
        "else:\n",
        "  print('No')"
      ],
      "execution_count": null,
      "outputs": [
        {
          "output_type": "stream",
          "text": [
            "Enter a string (yes YES or Yesfef\n",
            "No\n"
          ],
          "name": "stdout"
        }
      ]
    },
    {
      "cell_type": "markdown",
      "metadata": {
        "id": "FmAxhloY8i3E"
      },
      "source": [
        "**Write a program which can map() to make a list whose elements are square of elements in [1,2,3,4,5,6,7,8,9,10].**"
      ]
    },
    {
      "cell_type": "code",
      "metadata": {
        "colab": {
          "base_uri": "https://localhost:8080/"
        },
        "id": "WfMFXKFq8TNU",
        "outputId": "d9a3c66f-9df5-4dde-91d7-747c7db2e67e"
      },
      "source": [
        "li = [1,2,3,4,5,6,7,8,9,10]\n",
        "function = map(lambda x : x**2 ,li)\n",
        "print(list(function))"
      ],
      "execution_count": null,
      "outputs": [
        {
          "output_type": "stream",
          "text": [
            "[1, 4, 9, 16, 25, 36, 49, 64, 81, 100]\n"
          ],
          "name": "stdout"
        }
      ]
    },
    {
      "cell_type": "code",
      "metadata": {
        "colab": {
          "base_uri": "https://localhost:8080/"
        },
        "id": "MnbZi5Cm9ErS",
        "outputId": "347aad67-3f93-4a7f-f5b9-b1eda8937707"
      },
      "source": [
        "sq_nu = map(lambda x:x**2, filter(lambda x: x%2==0,li))\n",
        "print(list(sq_nu))"
      ],
      "execution_count": null,
      "outputs": [
        {
          "output_type": "stream",
          "text": [
            "[4, 16, 36, 64, 100]\n"
          ],
          "name": "stdout"
        }
      ]
    },
    {
      "cell_type": "markdown",
      "metadata": {
        "id": "f46aooHG-o7m"
      },
      "source": [
        "**Write a program which can filter() to make a list whose elements are even number between 1 and 20 (both included).**"
      ]
    },
    {
      "cell_type": "code",
      "metadata": {
        "colab": {
          "base_uri": "https://localhost:8080/"
        },
        "id": "tMhp3Wu0-tq1",
        "outputId": "83e98ca0-b205-42e7-f8d0-18cb83be1d4b"
      },
      "source": [
        "even_nu = filter(lambda x: x%2==0, range(1,20))\n",
        "print(list(even_nu))"
      ],
      "execution_count": null,
      "outputs": [
        {
          "output_type": "stream",
          "text": [
            "[2, 4, 6, 8, 10, 12, 14, 16, 18]\n"
          ],
          "name": "stdout"
        }
      ]
    },
    {
      "cell_type": "markdown",
      "metadata": {
        "id": "dKaSigciADMo"
      },
      "source": [
        "**Write a program which can map() to make a list whose elements are square of numbers between 1 and 20 (both included).**"
      ]
    },
    {
      "cell_type": "code",
      "metadata": {
        "colab": {
          "base_uri": "https://localhost:8080/"
        },
        "id": "vfA5LNttAHEd",
        "outputId": "251bd8ab-51a4-40d1-c696-093cfe01b845"
      },
      "source": [
        "elem = map(lambda x: x**2 ,range(1,20))\n",
        "print(list(elem))"
      ],
      "execution_count": null,
      "outputs": [
        {
          "output_type": "stream",
          "text": [
            "[1, 4, 9, 16, 25, 36, 49, 64, 81, 100, 121, 144, 169, 196, 225, 256, 289, 324, 361]\n"
          ],
          "name": "stdout"
        }
      ]
    },
    {
      "cell_type": "markdown",
      "metadata": {
        "id": "tVK-0Bq1Atfe"
      },
      "source": [
        "**Define a class named American which has a static method called printNationality.**"
      ]
    },
    {
      "cell_type": "code",
      "metadata": {
        "colab": {
          "base_uri": "https://localhost:8080/"
        },
        "id": "0aY4XNzmAyzb",
        "outputId": "d640ebb7-28cb-45ca-8496-dc24999b040e"
      },
      "source": [
        "class American(object):\n",
        "  @staticmethod\n",
        "  def printNationality():\n",
        "    print(\"America\")\n",
        "  \n",
        "us = American()\n",
        "us.printNationality()\n",
        "American.printNationality()"
      ],
      "execution_count": null,
      "outputs": [
        {
          "output_type": "stream",
          "text": [
            "America\n",
            "America\n"
          ],
          "name": "stdout"
        }
      ]
    },
    {
      "cell_type": "markdown",
      "metadata": {
        "id": "829f5KpNCHZD"
      },
      "source": [
        "**Define a class named American and its subclass NewYorker.**"
      ]
    },
    {
      "cell_type": "code",
      "metadata": {
        "colab": {
          "base_uri": "https://localhost:8080/"
        },
        "id": "Sh-y936HCRPS",
        "outputId": "eb755bd8-dcb7-4ef6-f260-b23bb9698068"
      },
      "source": [
        "class American(object):\n",
        "  def __main__(self):\n",
        "    print(\"Main Class\")\n",
        "\n",
        "class NewYorker(American):\n",
        "  def newyork(self):\n",
        "      print(\"Newyorkis in America\")\n",
        "\n",
        "obj1 = American()\n",
        "obj2 = NewYorker()\n",
        "print(obj1)\n",
        "print(obj2)\n",
        "obj1.__main__()\n",
        "obj2.newyork()\n"
      ],
      "execution_count": null,
      "outputs": [
        {
          "output_type": "stream",
          "text": [
            "<__main__.American object at 0x7fb86e8d32d0>\n",
            "<__main__.NewYorker object at 0x7fb86e8d3690>\n",
            "Main Class\n",
            "Newyorkis in America\n"
          ],
          "name": "stdout"
        }
      ]
    },
    {
      "cell_type": "code",
      "metadata": {
        "id": "p0Do093CBMff"
      },
      "source": [
        ""
      ],
      "execution_count": null,
      "outputs": []
    },
    {
      "cell_type": "markdown",
      "metadata": {
        "id": "EM-YKL69DwWf"
      },
      "source": [
        "**Define a class named Circle which can be constructed by a radius. The Circle class has a method which can compute the area.**"
      ]
    },
    {
      "cell_type": "code",
      "metadata": {
        "colab": {
          "base_uri": "https://localhost:8080/"
        },
        "id": "755SkV6eD07C",
        "outputId": "9da87bfe-3d62-40bf-e52e-3c914dce44c1"
      },
      "source": [
        "import math\n",
        "class Circle:\n",
        "  def areaofcircle(self,radius):\n",
        "    self.radius = radius\n",
        "    area = math.pi*(radius**2)\n",
        "    print(f\" Area is {math.ceil(area)} Sq metre\")\n",
        "  \n",
        "obj = Circle()\n",
        "obj.areaofcircle(23)"
      ],
      "execution_count": null,
      "outputs": [
        {
          "output_type": "stream",
          "text": [
            " Area is 1662 Sq metre\n"
          ],
          "name": "stdout"
        }
      ]
    },
    {
      "cell_type": "markdown",
      "metadata": {
        "id": "O-eeaIlPHOaA"
      },
      "source": [
        "**Define a class named Rectangle which can be constructed by a length and width. The Rectangle class has a method which can compute the area.**"
      ]
    },
    {
      "cell_type": "code",
      "metadata": {
        "colab": {
          "base_uri": "https://localhost:8080/"
        },
        "id": "0V3tCMHiF7MG",
        "outputId": "130672d8-9ed2-400c-e268-85a27fd767ba"
      },
      "source": [
        "class Rectangle:\n",
        "  def __init__(self,l,b):\n",
        "    self.length = l\n",
        "    self.breadth = b\n",
        "  def area(self):\n",
        "    return self.length*self.breadth\n",
        "\n",
        "obj = Rectangle(23,67)\n",
        "print(obj.area())\n"
      ],
      "execution_count": null,
      "outputs": [
        {
          "output_type": "stream",
          "text": [
            "1541\n"
          ],
          "name": "stdout"
        }
      ]
    },
    {
      "cell_type": "code",
      "metadata": {
        "id": "LUMnHlQgH9Ru"
      },
      "source": [
        ""
      ],
      "execution_count": null,
      "outputs": []
    },
    {
      "cell_type": "markdown",
      "metadata": {
        "id": "tUlU1xSwKYlZ"
      },
      "source": [
        "**Define a class named Shape and its subclass Square. The Square class has an init function which takes a length as argument. Both classes have a area function which can print the area of the shape where Shape's area is 0 by default.**"
      ]
    },
    {
      "cell_type": "code",
      "metadata": {
        "colab": {
          "base_uri": "https://localhost:8080/"
        },
        "id": "Qr3eMn2XKact",
        "outputId": "6d4a742e-69bb-4a50-cedd-98abbfd6f2a7"
      },
      "source": [
        "class Shape():\n",
        "    def __init__(self):\n",
        "        pass\n",
        "\n",
        "    def area(self):\n",
        "        return 0\n",
        "\n",
        "class Square(Shape):\n",
        "    def __init__(self,length = 0):\n",
        "        Shape.__init__(self)\n",
        "        self.length = length\n",
        "\n",
        "    def area(self):\n",
        "        return self.length*self.length\n",
        "\n",
        "Asqr = Square(5)\n",
        "print(Asqr.area())      # prints 25 as given argument\n",
        "\n",
        "print(Square().area())  # prints zero as default area"
      ],
      "execution_count": null,
      "outputs": [
        {
          "output_type": "stream",
          "text": [
            "25\n",
            "0\n"
          ],
          "name": "stdout"
        }
      ]
    },
    {
      "cell_type": "markdown",
      "metadata": {
        "id": "urgJuXRKM_cQ"
      },
      "source": [
        "**Please raise a RuntimeError exception.**"
      ]
    },
    {
      "cell_type": "code",
      "metadata": {
        "colab": {
          "base_uri": "https://localhost:8080/",
          "height": 163
        },
        "id": "X_3H6vJUNCM9",
        "outputId": "ff35ab58-bc22-49ee-88ec-7c0e44c7595f"
      },
      "source": [
        "raise RuntimeError('something wrong')"
      ],
      "execution_count": null,
      "outputs": [
        {
          "output_type": "error",
          "ename": "RuntimeError",
          "evalue": "ignored",
          "traceback": [
            "\u001b[0;31m---------------------------------------------------------------------------\u001b[0m",
            "\u001b[0;31mRuntimeError\u001b[0m                              Traceback (most recent call last)",
            "\u001b[0;32m<ipython-input-81-53fba0153627>\u001b[0m in \u001b[0;36m<module>\u001b[0;34m()\u001b[0m\n\u001b[0;32m----> 1\u001b[0;31m \u001b[0;32mraise\u001b[0m \u001b[0mRuntimeError\u001b[0m\u001b[0;34m(\u001b[0m\u001b[0;34m'something wrong'\u001b[0m\u001b[0;34m)\u001b[0m\u001b[0;34m\u001b[0m\u001b[0;34m\u001b[0m\u001b[0m\n\u001b[0m",
            "\u001b[0;31mRuntimeError\u001b[0m: something wrong"
          ]
        }
      ]
    },
    {
      "cell_type": "markdown",
      "metadata": {
        "id": "D3R1DFujNRnu"
      },
      "source": [
        "**Write a function to compute 5/0 and use try/except to catch the exceptions.**"
      ]
    },
    {
      "cell_type": "code",
      "metadata": {
        "colab": {
          "base_uri": "https://localhost:8080/"
        },
        "id": "xvHSrpx-NVMV",
        "outputId": "350762a3-c1a0-4893-96d6-6bc9f17bc355"
      },
      "source": [
        "print(\"*******DIVISION*****\")\n",
        "\n",
        "\n",
        "try:\n",
        "  a= int(input(\"Enter a (Integer) :\"))\n",
        "  b= int(input(\"Enter b (Integer) :\"))\n",
        "  division = a/b\n",
        "  print(division)\n",
        "except ZeroDivisionError as e:\n",
        "  print(\"Please dont use zero as denoms\")"
      ],
      "execution_count": null,
      "outputs": [
        {
          "output_type": "stream",
          "text": [
            "*******DIVISION*****\n",
            "Enter a (Integer) :2\n",
            "Enter b (Integer) :0\n",
            "Please dont use zero as denoms\n"
          ],
          "name": "stdout"
        }
      ]
    },
    {
      "cell_type": "markdown",
      "metadata": {
        "id": "T4_1CaryQXZ0"
      },
      "source": [
        "**Define a custom exception class which takes a string message as attribute.**"
      ]
    },
    {
      "cell_type": "code",
      "metadata": {
        "colab": {
          "base_uri": "https://localhost:8080/"
        },
        "id": "lUwiQ7nLQahM",
        "outputId": "3ab8b303-c7b5-4789-cbe0-851f6b04f090"
      },
      "source": [
        "class CustomException(Exception):\n",
        "  def __init__(self,msg):\n",
        "    self.msg = msg\n",
        "  \n",
        "num = int(input())\n",
        "\n",
        "try:\n",
        "  if num > 10:\n",
        "    raise CustomException(\"Input is greaer than 10\")\n",
        "  elif num < 10:\n",
        "    raise CustomException(\"Input is less than 10\")\n",
        "except Exception as err:\n",
        "  print(err.msg)\n"
      ],
      "execution_count": null,
      "outputs": [
        {
          "output_type": "stream",
          "text": [
            "89\n",
            "Input is greaer than 10\n"
          ],
          "name": "stdout"
        }
      ]
    },
    {
      "cell_type": "code",
      "metadata": {
        "id": "PPgwyyKBRmWm"
      },
      "source": [
        ""
      ],
      "execution_count": null,
      "outputs": []
    },
    {
      "cell_type": "markdown",
      "metadata": {
        "id": "qXRyDmm2S1Yc"
      },
      "source": [
        "**Assuming that we have some email addresses in the \"username@companyname.com\" format, please write program to print the user name of a given email address. Both user names and company names are composed of letters only.**\n",
        "\n",
        "**Example**: If the following email address is given as input to the program:\n",
        "\n",
        "**john@google.com**\n",
        "Then, the output of the program should be:\n",
        "\n",
        "john\n",
        "In case of input data being supplied to the question, it should be assumed to be a console input.\n",
        "\n",
        "Hints\n",
        "**Use \\w to match letters**"
      ]
    },
    {
      "cell_type": "code",
      "metadata": {
        "colab": {
          "base_uri": "https://localhost:8080/"
        },
        "id": "DEb1pHGcS4Uc",
        "outputId": "289339a6-aeae-4200-cf4d-f2d9fc1590d8"
      },
      "source": [
        "import re\n",
        "email = input(\"Enter your email address :\")\n",
        "pattern = \"(\\w+).\\w+@\\w+.com\"\n",
        "ans = re.findall(pattern,email)\n",
        "print(\"As per your email your name or surname is :\", ans[0])"
      ],
      "execution_count": null,
      "outputs": [
        {
          "output_type": "stream",
          "text": [
            "Enter your email address :john.doe@google.com\n",
            "As per your email your name or surname is : john\n"
          ],
          "name": "stdout"
        }
      ]
    },
    {
      "cell_type": "code",
      "metadata": {
        "id": "Nyh6jLBvUTSj"
      },
      "source": [
        "email_new = input(\"Enter your email address :\")\n",
        "save = email_new.split('@')\n",
        "print(save)"
      ],
      "execution_count": null,
      "outputs": []
    },
    {
      "cell_type": "code",
      "metadata": {
        "id": "mcKjWYLsV5kt"
      },
      "source": [
        "print(\"Hello \")"
      ],
      "execution_count": null,
      "outputs": []
    },
    {
      "cell_type": "code",
      "metadata": {
        "id": "Fm7hcDXNYHci",
        "colab": {
          "base_uri": "https://localhost:8080/"
        },
        "outputId": "fb549e7f-c50b-43aa-f355-a7580e3dd709"
      },
      "source": [
        "user_inp = input().split()\n",
        "#print(user_inp)\n",
        "emp_list = []\n",
        "for word in user_inp:\n",
        "  if word.isdigit():\n",
        "    emp_list.append(word)\n",
        "print(emp_list)\n"
      ],
      "execution_count": null,
      "outputs": [
        {
          "output_type": "stream",
          "text": [
            "2 dogs and 3 cats\n",
            "['2', '3']\n"
          ],
          "name": "stdout"
        }
      ]
    },
    {
      "cell_type": "markdown",
      "metadata": {
        "id": "zcmLCbpBlGGf"
      },
      "source": [
        "**Print a unicode string \"hello world\".**"
      ]
    },
    {
      "cell_type": "code",
      "metadata": {
        "colab": {
          "base_uri": "https://localhost:8080/"
        },
        "id": "FKGiTSEBjwwB",
        "outputId": "9bcbbfc4-b990-466c-837c-bcad6af97de2"
      },
      "source": [
        "unicodeString = u\"hello world!\"\n",
        "print (unicodeString)"
      ],
      "execution_count": null,
      "outputs": [
        {
          "output_type": "stream",
          "text": [
            "hello world!\n"
          ],
          "name": "stdout"
        }
      ]
    },
    {
      "cell_type": "code",
      "metadata": {
        "colab": {
          "base_uri": "https://localhost:8080/"
        },
        "id": "5OC6jwpMmAwN",
        "outputId": "218ff9e2-ec7d-45a3-8bae-add20f6aa2fb"
      },
      "source": [
        "user_inp = input()\n",
        "res = user_inp.encode('utf-8')\n",
        "print(res)"
      ],
      "execution_count": null,
      "outputs": [
        {
          "output_type": "stream",
          "text": [
            "hello world\n",
            "b'hello world'\n"
          ],
          "name": "stdout"
        }
      ]
    },
    {
      "cell_type": "markdown",
      "metadata": {
        "id": "MYHJxeOpEuf-"
      },
      "source": [
        "**Write a program to compute:\n",
        "\n",
        "f(n)=f(n-1)+100 when n>0\n",
        "and f(0)=0\n",
        "with a given n input by console (n>0).**"
      ]
    },
    {
      "cell_type": "code",
      "metadata": {
        "colab": {
          "base_uri": "https://localhost:8080/"
        },
        "id": "9eKCG-eeFATH",
        "outputId": "fc9bc6d2-d7dd-40c8-9382-19fe61f3e722"
      },
      "source": [
        "n = int(input(\"Enter an integer :\"))\n",
        "\n",
        "def f(n):\n",
        "  if n==0:\n",
        "    return 0\n",
        "  return f(n-1) + 100\n",
        "\n",
        "print(f(n))\n"
      ],
      "execution_count": null,
      "outputs": [
        {
          "output_type": "stream",
          "text": [
            "Enter an integer :5\n",
            "500\n"
          ],
          "name": "stdout"
        }
      ]
    },
    {
      "cell_type": "markdown",
      "metadata": {
        "id": "fU1TvHAIKEdE"
      },
      "source": [
        "**The Fibonacci Sequence is computed based on the following formula:\n",
        "\n",
        "f(n)=0 if n=0\n",
        "f(n)=1 if n=1\n",
        "f(n)=f(n-1)+f(n-2) if n>1**"
      ]
    },
    {
      "cell_type": "code",
      "metadata": {
        "colab": {
          "base_uri": "https://localhost:8080/"
        },
        "id": "x-b1pDoIKKaP",
        "outputId": "a2ad101a-0626-4a40-b5e7-ddd1be304038"
      },
      "source": [
        "n = int(input(\"Enter a numnr :\"))\n",
        "def f(n):\n",
        "  if n==0:\n",
        "    return 0\n",
        "  elif n==1:\n",
        "    return 1\n",
        "  return f(n-1)+f(n-2)\n",
        "\n",
        "print(f(n))"
      ],
      "execution_count": null,
      "outputs": [
        {
          "output_type": "stream",
          "text": [
            "Enter a numnr :2\n",
            "1\n"
          ],
          "name": "stdout"
        }
      ]
    },
    {
      "cell_type": "code",
      "metadata": {
        "colab": {
          "base_uri": "https://localhost:8080/"
        },
        "id": "g64EhDEoMISg",
        "outputId": "42b61d8a-dd26-42a9-91dd-5d293aba80eb"
      },
      "source": [
        "n = int(input(\"Enter a digit :\"))\n",
        "def fact(n):\n",
        "  if n == 1 or n == 0:\n",
        "    return 1\n",
        "  else:\n",
        "    return n*fact(n-1)\n",
        "\n",
        "fact(n)"
      ],
      "execution_count": null,
      "outputs": [
        {
          "output_type": "stream",
          "text": [
            "Enter a digit :5\n"
          ],
          "name": "stdout"
        },
        {
          "output_type": "execute_result",
          "data": {
            "text/plain": [
              "120"
            ]
          },
          "metadata": {
            "tags": []
          },
          "execution_count": 2
        }
      ]
    },
    {
      "cell_type": "markdown",
      "metadata": {
        "id": "F6ZjrYm1K9-d"
      },
      "source": [
        "**Please write a program to output a random even number between 0 and 10 inclusive using random module and list comprehension.**\n"
      ]
    },
    {
      "cell_type": "code",
      "metadata": {
        "colab": {
          "base_uri": "https://localhost:8080/"
        },
        "id": "CB6YitEtLGKJ",
        "outputId": "00bf7a4f-4efa-44dc-a2ae-79510eb8ed83"
      },
      "source": [
        "import random\n",
        "\n",
        "resp = [i for i in range(0,11,2)]\n",
        "print(random.choice(resp))\n",
        "  "
      ],
      "execution_count": null,
      "outputs": [
        {
          "output_type": "stream",
          "text": [
            "8\n"
          ],
          "name": "stdout"
        }
      ]
    },
    {
      "cell_type": "markdown",
      "metadata": {
        "id": "gurZGIUrMWM_"
      },
      "source": [
        "**Please write a program to output a random number, which is divisible by 5 and 7, between 10 and 150 inclusive using random module and list comprehension.\n",
        "**"
      ]
    },
    {
      "cell_type": "code",
      "metadata": {
        "colab": {
          "base_uri": "https://localhost:8080/"
        },
        "id": "1nNoiMLwMrVt",
        "outputId": "1251daad-57fc-42ab-da1f-9c1393bc2808"
      },
      "source": [
        "import random\n",
        "\n",
        "num = random.choice(range(10,150))\n",
        "print(num)\n",
        "if num%5==0 and num%7==0:\n",
        "  print(num)"
      ],
      "execution_count": null,
      "outputs": [
        {
          "output_type": "stream",
          "text": [
            "35\n",
            "35\n"
          ],
          "name": "stdout"
        }
      ]
    },
    {
      "cell_type": "markdown",
      "metadata": {
        "id": "DWYMezDwRfLm"
      },
      "source": [
        "**Please write a program to generate a list with 5 random numbers between 100 and 200 inclusive.\n",
        "**"
      ]
    },
    {
      "cell_type": "code",
      "metadata": {
        "colab": {
          "base_uri": "https://localhost:8080/"
        },
        "id": "0FKZwzNrR5IZ",
        "outputId": "0fdda32a-db3a-4864-a54b-ee1a0a2665c3"
      },
      "source": [
        "import random\n",
        "from random import sample\n",
        "num = random.sample(range(100,200),5)\n",
        "print(num)\n"
      ],
      "execution_count": null,
      "outputs": [
        {
          "output_type": "stream",
          "text": [
            "[177, 175, 101, 165, 158]\n"
          ],
          "name": "stdout"
        }
      ]
    },
    {
      "cell_type": "code",
      "metadata": {
        "colab": {
          "base_uri": "https://localhost:8080/"
        },
        "id": "qUH7WMekSy1N",
        "outputId": "9a0f89d4-bfee-449b-fff4-85ec03bc48b3"
      },
      "source": [
        "from random import sample\n",
        "num = random.sample(range(100,201,2),5)\n",
        "print(num)"
      ],
      "execution_count": null,
      "outputs": [
        {
          "output_type": "stream",
          "text": [
            "[148, 140, 136, 166, 126]\n"
          ],
          "name": "stdout"
        }
      ]
    },
    {
      "cell_type": "markdown",
      "metadata": {
        "id": "CiE72WkjPdSn"
      },
      "source": [
        "**Please write a program to randomly print a integer number between 7 and 15 inclusive.**"
      ]
    },
    {
      "cell_type": "code",
      "metadata": {
        "colab": {
          "base_uri": "https://localhost:8080/"
        },
        "id": "5RdTbOagQARA",
        "outputId": "e76d6c46-29c0-43e2-b5fa-e01be09fb2ce"
      },
      "source": [
        "import random\n",
        "\n",
        "print(random.randrange(7,16))"
      ],
      "execution_count": null,
      "outputs": [
        {
          "output_type": "stream",
          "text": [
            "8\n"
          ],
          "name": "stdout"
        }
      ]
    },
    {
      "cell_type": "markdown",
      "metadata": {
        "id": "qlPsc-AEQ7wX"
      },
      "source": [
        "**Please write a program to compress and decompress the string \"hello world!hello world!hello world!hello world!\".**"
      ]
    },
    {
      "cell_type": "code",
      "metadata": {
        "colab": {
          "base_uri": "https://localhost:8080/"
        },
        "id": "yLnlB2lWRADM",
        "outputId": "9e56f7e3-61f4-4b5c-fbe8-6d0dd7ed85a9"
      },
      "source": [
        "import zlib\n",
        "s = 'hello world!hello world!hello world!hello world!'\n",
        "conv = bytes(s,'utf-8')\n",
        "t = (zlib.compress(conv))\n",
        "print (t)\n",
        "print (zlib.decompress(t))\n",
        "\n",
        "\n",
        "\n"
      ],
      "execution_count": null,
      "outputs": [
        {
          "output_type": "stream",
          "text": [
            "b'x\\x9c\\xcbH\\xcd\\xc9\\xc9W(\\xcf/\\xcaIQ\\xcc \\x82\\r\\x00\\xbd[\\x11\\xf5'\n",
            "b'hello world!hello world!hello world!hello world!'\n"
          ],
          "name": "stdout"
        }
      ]
    },
    {
      "cell_type": "markdown",
      "metadata": {
        "id": "N4F9oVaKTHjn"
      },
      "source": [
        "**Please write a program to print the running time of execution of \"1+1\" for 100 times.**"
      ]
    },
    {
      "cell_type": "code",
      "metadata": {
        "colab": {
          "base_uri": "https://localhost:8080/"
        },
        "id": "4gw0DfbhTLyG",
        "outputId": "9e27cd9b-2b71-4c10-cd5e-dd038d09f0f3"
      },
      "source": [
        "import datetime\n",
        "\n",
        "before = datetime.datetime.now()\n",
        "for i in range(100):\n",
        "  x = 1+1\n",
        "after  = datetime.datetime.now()\n",
        "execution = after - before\n",
        "print(execution.microseconds)"
      ],
      "execution_count": null,
      "outputs": [
        {
          "output_type": "stream",
          "text": [
            "69\n"
          ],
          "name": "stdout"
        }
      ]
    },
    {
      "cell_type": "code",
      "metadata": {
        "colab": {
          "base_uri": "https://localhost:8080/"
        },
        "id": "biYog317TdLY",
        "outputId": "e363c3e5-3561-4685-c174-8e0a2e5db18b"
      },
      "source": [
        "import time\n",
        "\n",
        "before = time.time()\n",
        "for i in range(100):\n",
        "    x = 1 + 1\n",
        "after = time.time()\n",
        "execution_time = after - before\n",
        "print(execution_time)"
      ],
      "execution_count": null,
      "outputs": [
        {
          "output_type": "stream",
          "text": [
            "8.416175842285156e-05\n"
          ],
          "name": "stdout"
        }
      ]
    },
    {
      "cell_type": "markdown",
      "metadata": {
        "id": "5nWFjnXNZR_f"
      },
      "source": [
        "**Please write a program to shuffle and print the list [3,6,7,8].**"
      ]
    },
    {
      "cell_type": "code",
      "metadata": {
        "colab": {
          "base_uri": "https://localhost:8080/"
        },
        "id": "zvtofHKhZUwj",
        "outputId": "b5b600b0-d274-403f-ee19-64ca43aca7b9"
      },
      "source": [
        "from random import shuffle\n",
        "li = [3,6,7,8]\n",
        "shuffle(li)\n",
        "print(li)"
      ],
      "execution_count": null,
      "outputs": [
        {
          "output_type": "stream",
          "text": [
            "[3, 6, 8, 7]\n"
          ],
          "name": "stdout"
        }
      ]
    },
    {
      "cell_type": "markdown",
      "metadata": {
        "id": "_W22tPzCa98q"
      },
      "source": [
        "**Please write a program to generate all sentences where subject is in [\"I\", \"You\"] and verb is in [\"Play\", \"Love\"] and the object is in [\"Hockey\",\"Football\"].**"
      ]
    },
    {
      "cell_type": "code",
      "metadata": {
        "colab": {
          "base_uri": "https://localhost:8080/"
        },
        "id": "xHXNIc2abBx9",
        "outputId": "91b67d8c-210f-456e-d0ff-4666f1eabc72"
      },
      "source": [
        "subject =  [\"I\", \"You\"]\n",
        "verbal =  [\"Play\", \"Love\"] \n",
        "objects  = [\"Hockey\",\"Football\"]\n",
        "\n",
        "added = list(zip(sub,verb,obj))\n",
        "print(added)"
      ],
      "execution_count": null,
      "outputs": [
        {
          "output_type": "stream",
          "text": [
            "[('I', 'Play', 'Hockey'), ('You', 'Love', 'Football')]\n"
          ],
          "name": "stdout"
        }
      ]
    },
    {
      "cell_type": "code",
      "metadata": {
        "colab": {
          "base_uri": "https://localhost:8080/"
        },
        "id": "nGHDwKe3bflm",
        "outputId": "056cbebe-93ee-43e4-ec5b-a7d450ec3f87"
      },
      "source": [
        "\n",
        "subject =  [\"I\", \"You\"]\n",
        "verbal =  [\"Play\", \"Love\"] \n",
        "objects  = [\"Hockey\",\"Football\"]\n",
        "for sub in subject:\n",
        "  for verb in verbal:\n",
        "    for obj in objects:\n",
        "      print(f\"{sub} {verb} {obj}\")"
      ],
      "execution_count": null,
      "outputs": [
        {
          "output_type": "stream",
          "text": [
            "I Play Hockey\n",
            "I Play Football\n",
            "I Love Hockey\n",
            "I Love Football\n",
            "You Play Hockey\n",
            "You Play Football\n",
            "You Love Hockey\n",
            "You Love Football\n"
          ],
          "name": "stdout"
        }
      ]
    },
    {
      "cell_type": "code",
      "metadata": {
        "colab": {
          "base_uri": "https://localhost:8080/"
        },
        "id": "d3hpHUJGcC-Y",
        "outputId": "c2262f5a-852b-4071-e083-1fcec3d49079"
      },
      "source": [
        "import itertools\n",
        "subject =  [\"I\", \"You\"]\n",
        "verbal =  [\"Play\", \"Love\"] \n",
        "objects  = [\"Hockey\",\"Football\"]\n",
        "\n",
        "sentence = [subject,verbal,objects ]\n",
        "res = itertools.product(*sentence)\n",
        "for i in res:\n",
        "  print(i)"
      ],
      "execution_count": null,
      "outputs": [
        {
          "output_type": "stream",
          "text": [
            "('I', 'Play', 'Hockey')\n",
            "('I', 'Play', 'Football')\n",
            "('I', 'Love', 'Hockey')\n",
            "('I', 'Love', 'Football')\n",
            "('You', 'Play', 'Hockey')\n",
            "('You', 'Play', 'Football')\n",
            "('You', 'Love', 'Hockey')\n",
            "('You', 'Love', 'Football')\n"
          ],
          "name": "stdout"
        }
      ]
    },
    {
      "cell_type": "code",
      "metadata": {
        "colab": {
          "base_uri": "https://localhost:8080/"
        },
        "id": "OI9VByCfdKxo",
        "outputId": "74b58494-068f-41ad-f20d-bfac2065271c"
      },
      "source": [
        ""
      ],
      "execution_count": null,
      "outputs": [
        {
          "output_type": "stream",
          "text": [
            "Enter a sting :ekjkj\n",
            "\n"
          ],
          "name": "stdout"
        }
      ]
    },
    {
      "cell_type": "markdown",
      "metadata": {
        "id": "lB8QjaMvoM5Q"
      },
      "source": [
        "**Please write a program to print the list after removing even numbers in [5,6,77,45,22,12,24].**"
      ]
    },
    {
      "cell_type": "code",
      "metadata": {
        "colab": {
          "base_uri": "https://localhost:8080/"
        },
        "id": "iLMk2HxsoUeD",
        "outputId": "39d8c7c4-232d-4ec4-c4f5-34f274d3b476"
      },
      "source": [
        "li = [5,6,77,45,22,12,24]\n",
        "new_list = []\n",
        "for i in li:\n",
        "  if i%2 != 0:\n",
        "    new_list.append(i)\n",
        "\n",
        "print(new_list)"
      ],
      "execution_count": null,
      "outputs": [
        {
          "output_type": "stream",
          "text": [
            "[5, 77, 45]\n"
          ],
          "name": "stdout"
        }
      ]
    },
    {
      "cell_type": "code",
      "metadata": {
        "colab": {
          "base_uri": "https://localhost:8080/"
        },
        "id": "kwg70jEeothN",
        "outputId": "282ee151-579b-4342-a084-aea5b4fa696a"
      },
      "source": [
        "li = [5,6,77,45,22,12,24]\n",
        "n = list(filter(lambda x:x%2 !=0 ,li))\n",
        "print(n)"
      ],
      "execution_count": null,
      "outputs": [
        {
          "output_type": "stream",
          "text": [
            "[5, 77, 45]\n"
          ],
          "name": "stdout"
        }
      ]
    },
    {
      "cell_type": "markdown",
      "metadata": {
        "id": "3NkdLkCQrM9_"
      },
      "source": [
        "**By using list comprehension, please write a program to print the list after removing numbers which are divisible by 5 and 7 in [12,24,35,70,88,120,155].**"
      ]
    },
    {
      "cell_type": "code",
      "metadata": {
        "colab": {
          "base_uri": "https://localhost:8080/"
        },
        "id": "vWjv6MvtpLdj",
        "outputId": "820e9f08-5946-42ae-8a42-75d12fa0184f"
      },
      "source": [
        "lis = [12,24,35,70,88,120,155]\n",
        "new_li = []\n",
        "\n",
        "for i in lis:\n",
        "  if i%5 != 0 and i%7 != 0:\n",
        "    new_li.append(i)\n",
        "print(new_li)"
      ],
      "execution_count": null,
      "outputs": [
        {
          "output_type": "stream",
          "text": [
            "[12, 24, 88]\n"
          ],
          "name": "stdout"
        }
      ]
    },
    {
      "cell_type": "code",
      "metadata": {
        "colab": {
          "base_uri": "https://localhost:8080/"
        },
        "id": "taTKXitQr1yp",
        "outputId": "32386b16-fdbf-41ee-e97d-b86c92439c95"
      },
      "source": [
        "li = [12,24,35,70,88,120,155]\n",
        "n = list(filter(lambda x : x%5 != 0 and x%7 != 0,li))\n",
        "print(n)"
      ],
      "execution_count": null,
      "outputs": [
        {
          "output_type": "stream",
          "text": [
            "[12, 24, 88]\n"
          ],
          "name": "stdout"
        }
      ]
    },
    {
      "cell_type": "markdown",
      "metadata": {
        "id": "PBoOhC25tAfX"
      },
      "source": [
        "**By using list comprehension, please write a program to print the list after removing the 0th, 2nd, 4th,6th numbers in [12,24,35,70,88,120,155].**"
      ]
    },
    {
      "cell_type": "code",
      "metadata": {
        "colab": {
          "base_uri": "https://localhost:8080/"
        },
        "id": "o5VhR3YBsXo4",
        "outputId": "6e3821bc-173e-4a50-ec7e-f6a3b2c913a2"
      },
      "source": [
        "lis = [12,24,35,70,88,120,155]\n",
        "lis = [lis[i] for i in range(len(lis)) if i%2 !=0 and i <=6]\n",
        "print(lis)"
      ],
      "execution_count": null,
      "outputs": [
        {
          "output_type": "stream",
          "text": [
            "[24, 70, 120]\n"
          ],
          "name": "stdout"
        }
      ]
    },
    {
      "cell_type": "markdown",
      "metadata": {
        "id": "_XNSnj_ERT43"
      },
      "source": [
        "**Please write a program which count and print the numbers of each character in a string input by console.\n",
        "Example: If the following string is given as input to the program**"
      ]
    },
    {
      "cell_type": "code",
      "metadata": {
        "id": "_k96gUhVt3Nn",
        "colab": {
          "base_uri": "https://localhost:8080/"
        },
        "outputId": "49bc3604-15b6-4282-9ba1-a4ad18e73fd8"
      },
      "source": [
        "\n",
        "n = input(\"Enter a string :\")\n",
        "\n",
        "for i in sorted(set(n)):\n",
        "  print(f\"{i},{n.count(i)}\")\n"
      ],
      "execution_count": null,
      "outputs": [
        {
          "output_type": "stream",
          "text": [
            "Enter a string :aasggstwkkjiur\n",
            "a,2\n",
            "g,2\n",
            "i,1\n",
            "j,1\n",
            "k,2\n",
            "r,1\n",
            "s,2\n",
            "t,1\n",
            "u,1\n",
            "w,1\n"
          ],
          "name": "stdout"
        }
      ]
    },
    {
      "cell_type": "markdown",
      "metadata": {
        "id": "LcIol5JZV6nK"
      },
      "source": [
        "**Please write a program which accepts a string from console and print it in reverse order**\n",
        "\n",
        "Example: If the following string is given as input to the program:\n",
        "\n",
        "**rise to vote sir**\n",
        "\n",
        "Then, the output of the program should be:\n",
        "\n",
        "**ris etov ot esir**"
      ]
    },
    {
      "cell_type": "code",
      "metadata": {
        "id": "VLy4AG3QSxtI",
        "colab": {
          "base_uri": "https://localhost:8080/"
        },
        "outputId": "716820e8-00db-4d87-985e-d00160697ff6"
      },
      "source": [
        "string = input()\n",
        "print(string[::-1])"
      ],
      "execution_count": null,
      "outputs": [
        {
          "output_type": "stream",
          "text": [
            "rise to vote sir\n",
            "ris etov ot esir\n"
          ],
          "name": "stdout"
        }
      ]
    },
    {
      "cell_type": "markdown",
      "metadata": {
        "id": "gmFLyTMzYknU"
      },
      "source": [
        "**Please write a program which accepts a string from console and print the characters that have even indexes.**"
      ]
    },
    {
      "cell_type": "code",
      "metadata": {
        "id": "JwpQuz7UX3Rd",
        "colab": {
          "base_uri": "https://localhost:8080/"
        },
        "outputId": "ee1a94b6-37eb-48f6-84c2-ed8b35aa2fd8"
      },
      "source": [
        "s = \"H1e2l3l4o5w6o7r8l9d\"\n",
        "print(s[::2])"
      ],
      "execution_count": null,
      "outputs": [
        {
          "output_type": "stream",
          "text": [
            "Helloworld\n"
          ],
          "name": "stdout"
        }
      ]
    },
    {
      "cell_type": "markdown",
      "metadata": {
        "id": "tugbSSrYZxo2"
      },
      "source": [
        "**Please write a program which prints all permutations of [1,2,3]**"
      ]
    },
    {
      "cell_type": "code",
      "metadata": {
        "id": "dQhLdqoBZWcP",
        "colab": {
          "base_uri": "https://localhost:8080/"
        },
        "outputId": "ee8f4a8e-a879-4d54-9039-906bcd9b4f69"
      },
      "source": [
        "import itertools\n",
        "\n",
        "print(list(itertools.permutations([1,2,3])))"
      ],
      "execution_count": null,
      "outputs": [
        {
          "output_type": "stream",
          "text": [
            "[(1, 2, 3), (1, 3, 2), (2, 1, 3), (2, 3, 1), (3, 1, 2), (3, 2, 1)]\n"
          ],
          "name": "stdout"
        }
      ]
    },
    {
      "cell_type": "markdown",
      "metadata": {
        "id": "SPOJSU5KcDNy"
      },
      "source": [
        "**Write a program to solve a classic ancient Chinese puzzle: We count 35 heads and 94 legs among the chickens and rabbits in a farm. How many rabbits and how many chickens do we have?**"
      ]
    },
    {
      "cell_type": "code",
      "metadata": {
        "id": "andONOSGaAeu",
        "colab": {
          "base_uri": "https://localhost:8080/"
        },
        "outputId": "0b0da2a8-7517-4d98-9a78-7175b5aa8008"
      },
      "source": [
        "import itertools\n",
        "\n",
        "def animal_counter(lst):\n",
        "    chickens = 0\t\n",
        "    rabbits = 0\n",
        "    for i in lst:\n",
        "        if i == 2:\n",
        "            chickens += 1\n",
        "        elif i == 4:\n",
        "            rabbits += 1\n",
        "    print(f\"Number of chickens is {chickens}\\nNumber of rabbits is {rabbits}\")\n",
        "\n",
        "\n",
        "def animal_calculator(total_legs, total_heads, legs_of_each_species):\n",
        "    combinations = itertools.combinations_with_replacement(legs_of_each_species, total_heads)\n",
        "    correct_combos = []\n",
        "    for i in list(combinations):\n",
        "        if sum(i) == total_legs:\n",
        "            correct_combos.append(i)\n",
        "    print(correct_combos)\n",
        "    for i in correct_combos:\n",
        "        animal_counter(i)\n",
        "\n",
        "animal_calculator(94, 35, legs_of_each_species=[2,4])"
      ],
      "execution_count": null,
      "outputs": [
        {
          "output_type": "stream",
          "text": [
            "[(2, 2, 2, 2, 2, 2, 2, 2, 2, 2, 2, 2, 2, 2, 2, 2, 2, 2, 2, 2, 2, 2, 2, 4, 4, 4, 4, 4, 4, 4, 4, 4, 4, 4, 4)]\n",
            "Number of chickens is 23\n",
            "Number of rabbits is 12\n"
          ],
          "name": "stdout"
        }
      ]
    },
    {
      "cell_type": "code",
      "metadata": {
        "id": "k19UBXIIcdpy",
        "colab": {
          "base_uri": "https://localhost:8080/"
        },
        "outputId": "17af06ef-c4d2-4452-ce9e-c45fe1567c03"
      },
      "source": [
        "li = []\n",
        "\n",
        "for i in range(6):\n",
        "  li.append(\"*\"*i)\n",
        "print(\"\\n\".join(li))"
      ],
      "execution_count": null,
      "outputs": [
        {
          "output_type": "stream",
          "text": [
            "\n",
            "*\n",
            "**\n",
            "***\n",
            "****\n",
            "*****\n"
          ],
          "name": "stdout"
        }
      ]
    },
    {
      "cell_type": "code",
      "metadata": {
        "id": "0HiFAx3Egq20",
        "colab": {
          "base_uri": "https://localhost:8080/"
        },
        "outputId": "4d1dd620-a5bc-4af8-d262-2727f9a29249"
      },
      "source": [
        "pip install bs4"
      ],
      "execution_count": null,
      "outputs": [
        {
          "output_type": "stream",
          "text": [
            "Requirement already satisfied: bs4 in /usr/local/lib/python3.7/dist-packages (0.0.1)\n",
            "Requirement already satisfied: beautifulsoup4 in /usr/local/lib/python3.7/dist-packages (from bs4) (4.6.3)\n"
          ],
          "name": "stdout"
        }
      ]
    },
    {
      "cell_type": "code",
      "metadata": {
        "id": "y7dkJWm1P8v2",
        "colab": {
          "base_uri": "https://localhost:8080/"
        },
        "outputId": "e9876416-5bf6-4043-83da-2af8f4c367f9"
      },
      "source": [
        "import requests\n",
        "from bs4 import BeautifulSoup\n",
        "from pprint import pprint\n",
        "\n",
        "resp = requests.get('https://news.ycombinator.com/')\n",
        "\n",
        "soup = BeautifulSoup(resp.text,'html.parser')\n",
        "links = soup.select('.storylink')\n",
        "subtext  = soup.select('.subtext')\n",
        "\n",
        "def sorted_by_votes(hnlist):\n",
        "  return sorted(hnlist,key=lambda k:k['votes'])\n",
        "\n",
        "def get_title_list(links,votes):\n",
        "  hn = []\n",
        "  for idx,items in enumerate(links):\n",
        "    title = links[idx].getText()\n",
        "    href = links[idx].get('href',None)\n",
        "    votes = subtext[idx].select('.score')\n",
        "    if len(votes): \n",
        "      points = int(votes[0].getText().replace(' points', ''))\n",
        "      if points > 100:        \n",
        "        hn.append({'title': title, 'link': href, 'votes': points})\n",
        "  return sorted_by_votes(hn)\n",
        "\n",
        "\n",
        "pprint(get_title_list(links,subtext))"
      ],
      "execution_count": null,
      "outputs": [
        {
          "output_type": "stream",
          "text": [
            "[{'link': 'item?id=26621266',\n",
            "  'title': 'Launch HN: Greywing (YC W21) – Automated ship operations focused '\n",
            "           'on crew',\n",
            "  'votes': 101},\n",
            " {'link': 'https://www.google.com/search?q=ever+given',\n",
            "  'title': 'Google showing animated ships when searching “ever given”',\n",
            "  'votes': 102},\n",
            " {'link': 'https://blog.tonari.no/introducing-innernet',\n",
            "  'title': 'Innernet: open source Rust based Tailscale alternative by Tonari',\n",
            "  'votes': 104},\n",
            " {'link': 'http://tenfourfox.blogspot.com/2020/04/the-end-of-tenfourfox-and-what-ive.html',\n",
            "  'title': \"The end of TenFourFox and what I've learned from it\",\n",
            "  'votes': 141},\n",
            " {'link': 'https://wattenberger.com/blog/react-and-d3',\n",
            "  'title': 'React and D3.js',\n",
            "  'votes': 155},\n",
            " {'link': 'https://arstechnica.com/tech-policy/2021/03/att-lobbies-against-nationwide-fiber-says-10mbps-uploads-are-good-enough',\n",
            "  'title': 'AT&T lobbies against nationwide fiber, says 10Mbps uploads are '\n",
            "           'good enough',\n",
            "  'votes': 155},\n",
            " {'link': 'https://blog.gwlab.page/vpn-over-ssh-the-socks-proxy-8a8d7bdc7028',\n",
            "  'title': 'VPN over SSH? The Socks Proxy',\n",
            "  'votes': 172},\n",
            " {'link': 'https://cs.nyu.edu/davise/papers/hofstadter.pdf',\n",
            "  'title': 'Retrospective review of Gödel, Escher, Bach (1996) [pdf]',\n",
            "  'votes': 178},\n",
            " {'link': 'https://hpyproject.org/blog/posts/2021/03/hello-hpy/',\n",
            "  'title': 'Hello, HPy',\n",
            "  'votes': 256},\n",
            " {'link': 'https://coollabs.io/coolify',\n",
            "  'title': 'Show HN: An open-source, self-hostable Heroku and Netlify '\n",
            "           'alternative',\n",
            "  'votes': 267},\n",
            " {'link': 'https://github.com/birchb1024/frangipanni',\n",
            "  'title': 'Show HN: I wrote a program to convert lines of text into trees',\n",
            "  'votes': 282},\n",
            " {'link': 'https://www.intel.com/content/www/us/en/products/docs/io/universal-serial-bus/usb3-frequency-interference-paper.html',\n",
            "  'title': 'USB 3.0* Radio Frequency Interference on 2.4 GHz Devices (2012)',\n",
            "  'votes': 287},\n",
            " {'link': 'https://numi.app/',\n",
            "  'title': 'Numi. Calculator app for Mac',\n",
            "  'votes': 306},\n",
            " {'link': 'http://68k.news/',\n",
            "  'title': '68k.news: A Netscape 1.1 makeover of Google News',\n",
            "  'votes': 336},\n",
            " {'link': 'https://twitter.com/superdealloc/status/1376626243865604100',\n",
            "  'title': 'Ubiquiti starts serving ads in their management interface',\n",
            "  'votes': 360},\n",
            " {'link': 'https://gregraiz.com/i-made-an-eink-newspaper/',\n",
            "  'title': 'I made an eInk newspaper',\n",
            "  'votes': 496},\n",
            " {'link': 'https://github.com/NAalytics/Assemblies-of-putative-SARS-CoV2-spike-encoding-mRNA-sequences-for-vaccines-BNT-162b2-and-mRNA-1273/blob/main/Assemblies%20of%20putative%20SARS-CoV2-spike-encoding%20mRNA%20sequences%20for%20vaccines%20BNT-162b2%20and%20mRNA-1273.docx.pdf',\n",
            "  'title': 'Moderna mRNA sequence released to GitHub [pdf]',\n",
            "  'votes': 745},\n",
            " {'link': 'https://deno.com/blog/the-deno-company',\n",
            "  'title': 'The Deno Company',\n",
            "  'votes': 796},\n",
            " {'link': 'https://www.reuters.com/article/us-egypt-suezcanal-ship-floated/suez-canal-says-traffic-in-channel-resumes-after-stranded-ship-refloated-idUSKBN2BL1S9',\n",
            "  'title': 'Suez Canal says traffic in channel resumes after stranded ship '\n",
            "           'refloated',\n",
            "  'votes': 987}]\n"
          ],
          "name": "stdout"
        }
      ]
    },
    {
      "cell_type": "code",
      "metadata": {
        "id": "n4bAIEZ-Qws0",
        "colab": {
          "base_uri": "https://localhost:8080/"
        },
        "outputId": "4853ab89-cda7-4a94-b943-656c44940f3a"
      },
      "source": [
        "class product:\n",
        "  def __init__(self,name,price):\n",
        "    self.name = name\n",
        "    self.price = price\n",
        "  def __add__(self,other):\n",
        "    self.other = other\n",
        "    if self.price > other.price:\n",
        "      return self.price\n",
        "    return other.price\n",
        "\n",
        "\n",
        "p1 = product(\"Iphone\",200)\n",
        "p2 = product(\"motorola\",500)\n",
        "print(p1+p2)\n",
        "#print(p1+100)"
      ],
      "execution_count": null,
      "outputs": [
        {
          "output_type": "stream",
          "text": [
            "500\n"
          ],
          "name": "stdout"
        }
      ]
    },
    {
      "cell_type": "code",
      "metadata": {
        "id": "gZ7aNp2hyKut",
        "colab": {
          "base_uri": "https://localhost:8080/"
        },
        "outputId": "35df90a7-5fcb-43af-d53d-63f5271ae118"
      },
      "source": [
        "import sqlite3\n",
        "\n",
        "conn = sqlite3.connect('test.db')\n",
        "\n",
        "print (\"Opened database successfully\")"
      ],
      "execution_count": null,
      "outputs": [
        {
          "output_type": "stream",
          "text": [
            "Opened database successfully\n"
          ],
          "name": "stdout"
        }
      ]
    },
    {
      "cell_type": "code",
      "metadata": {
        "id": "VvJZWlDh8OnL",
        "colab": {
          "base_uri": "https://localhost:8080/",
          "height": 248
        },
        "outputId": "a1ced7f8-40f2-453e-de51-b6f006609ab0"
      },
      "source": [
        "import sqlite3\n",
        "\n",
        "conn = sqlite3.connect('testdb')\n",
        "print (\"Opened database successfully\")\n",
        "\n",
        "conn.execute(\"Create table employee (emp_id int,emp_name text,sal int,mobile int)\")\n",
        "\n",
        "conn.close()\n"
      ],
      "execution_count": null,
      "outputs": [
        {
          "output_type": "stream",
          "text": [
            "Opened database successfully\n"
          ],
          "name": "stdout"
        },
        {
          "output_type": "error",
          "ename": "OperationalError",
          "evalue": "ignored",
          "traceback": [
            "\u001b[0;31m---------------------------------------------------------------------------\u001b[0m",
            "\u001b[0;31mOperationalError\u001b[0m                          Traceback (most recent call last)",
            "\u001b[0;32m<ipython-input-92-19e1760b5cdb>\u001b[0m in \u001b[0;36m<module>\u001b[0;34m()\u001b[0m\n\u001b[1;32m      4\u001b[0m \u001b[0mprint\u001b[0m \u001b[0;34m(\u001b[0m\u001b[0;34m\"Opened database successfully\"\u001b[0m\u001b[0;34m)\u001b[0m\u001b[0;34m\u001b[0m\u001b[0;34m\u001b[0m\u001b[0m\n\u001b[1;32m      5\u001b[0m \u001b[0;34m\u001b[0m\u001b[0m\n\u001b[0;32m----> 6\u001b[0;31m \u001b[0mconn\u001b[0m\u001b[0;34m.\u001b[0m\u001b[0mexecute\u001b[0m\u001b[0;34m(\u001b[0m\u001b[0;34m\"Create table employee (emp_id int,emp_name text,sal int,mobile int)\"\u001b[0m\u001b[0;34m)\u001b[0m\u001b[0;34m\u001b[0m\u001b[0;34m\u001b[0m\u001b[0m\n\u001b[0m\u001b[1;32m      7\u001b[0m \u001b[0;34m\u001b[0m\u001b[0m\n\u001b[1;32m      8\u001b[0m \u001b[0mconn\u001b[0m\u001b[0;34m.\u001b[0m\u001b[0mclose\u001b[0m\u001b[0;34m(\u001b[0m\u001b[0;34m)\u001b[0m\u001b[0;34m\u001b[0m\u001b[0;34m\u001b[0m\u001b[0m\n",
            "\u001b[0;31mOperationalError\u001b[0m: table employee already exists"
          ]
        }
      ]
    },
    {
      "cell_type": "code",
      "metadata": {
        "id": "jV_8Ci29_ZPj",
        "colab": {
          "base_uri": "https://localhost:8080/"
        },
        "outputId": "1ca34fdd-5f6b-48e5-e58a-4119aad372b8"
      },
      "source": [
        "import sqlite3\n",
        "\n",
        "conn = sqlite3.connect('testdb')\n",
        "conn.execute(\"INSERT INTO employee (emp_id,emp_name,sal,mobile) values (101,'Adam',5000,7756366465)\")\n",
        "conn.execute(\"INSERT INTO employee (emp_id,emp_name,sal,mobile) values (102,'Bob',3000,7756545354)\")\n",
        "conn.execute(\"INSERT INTO employee (emp_id,emp_name,sal,mobile) values (103,'Catherine',4000,8875666354)\")\n",
        "conn.execute(\"INSERT INTO employee (emp_id,emp_name,sal,mobile) values (104,'Douglas',2000,8878488776)\")\n",
        "conn.execute(\"INSERT INTO employee (emp_id,emp_name,sal,mobile) values (106,'Eela',10000,9908765467)\")\n",
        "\n",
        "conn.close()\n",
        "\n",
        "print(\"Data has been inserted successfully\")\n",
        "\n",
        "\n",
        "\n"
      ],
      "execution_count": null,
      "outputs": [
        {
          "output_type": "stream",
          "text": [
            "Data has been inserted successfully\n"
          ],
          "name": "stdout"
        }
      ]
    },
    {
      "cell_type": "code",
      "metadata": {
        "id": "5m5Z88HMAsmj",
        "colab": {
          "base_uri": "https://localhost:8080/"
        },
        "outputId": "8c73d77d-4d6c-49a7-adde-df12c8793b7c"
      },
      "source": [
        "import sqlite3\n",
        "\n",
        "conn = sqlite3.connect('testdb')\n",
        "print(\"opened db successfully\")\n",
        "cursor = conn.execute(\"SELECT emp_id,emp_name,sal,mobile FROM employee;\")\n",
        "print(cursor)\n",
        "\n",
        "for row in cursor:\n",
        "  print(\"*\")\n",
        "  print(\"emp_id\",row[0])\n",
        "  print(\"emp_name\",row[1])\n",
        "  print(\"sal\",row[2])\n",
        "  print(\"mobile\",row[3],\"\\n\")\n",
        "  \n",
        "\n",
        "#conn.close()\n",
        "\n",
        "print(\"closed successfully\")"
      ],
      "execution_count": null,
      "outputs": [
        {
          "output_type": "stream",
          "text": [
            "opened db successfully\n",
            "<sqlite3.Cursor object at 0x7f757ea30340>\n",
            "closed successfully\n"
          ],
          "name": "stdout"
        }
      ]
    },
    {
      "cell_type": "code",
      "metadata": {
        "id": "EArBG6CHCZxM",
        "colab": {
          "base_uri": "https://localhost:8080/"
        },
        "outputId": "328f70a7-894f-4056-9db9-8da12bbcb585"
      },
      "source": [
        "import sqlite3\n",
        "\n",
        "connection = sqlite3.connect('testdb')\n",
        "cursor = connection.cursor()\n",
        "\n",
        "\n",
        "def sql():\n",
        "    return \"SELECT emp_id,emp_name,sal,mobile FROM employee;\"\n",
        "\n",
        "\n",
        "cursor.execute(sql()).fetchall()"
      ],
      "execution_count": null,
      "outputs": [
        {
          "output_type": "execute_result",
          "data": {
            "text/plain": [
              "[]"
            ]
          },
          "metadata": {
            "tags": []
          },
          "execution_count": 95
        }
      ]
    },
    {
      "cell_type": "markdown",
      "metadata": {
        "id": "WMyuOei2VTIc"
      },
      "source": [
        "**Write a Python program to sort a list of dictionaries using Lambda. Go to the editor\n",
        "Original list of dictionaries :\n",
        "[{'make': 'Nokia', 'model': 216, 'color': 'Black'}, {'make': 'Mi Max', 'model': '2', 'color': 'Gold'}, {'make': 'Samsung', 'model': 7, 'color': 'Blue'}]\n",
        "Sorting the List of dictionaries :\n",
        "[{'make': 'Nokia', 'model': 216, 'color': 'Black'}, {'make': 'Samsung', 'model': 7, 'color': 'Blue'}, {'make': 'Mi Max', 'model': '2', 'color': 'Gold'}]**"
      ]
    },
    {
      "cell_type": "code",
      "metadata": {
        "id": "af-7MqeFFo-m",
        "colab": {
          "base_uri": "https://localhost:8080/"
        },
        "outputId": "5cbe2684-528b-4d73-eda7-ba6b96b465c6"
      },
      "source": [
        "list_1 = [{'make': 'Nokia', 'model': 216, 'color': 'Black'}, {'make': 'Mi Max', 'model': '2', 'color': 'Gold'}, {'make': 'Samsung', 'model': 7, 'color': 'Blue'}] \n",
        "new = sorted(list_1,key=lambda x: x['color'])\n",
        "print(new)"
      ],
      "execution_count": null,
      "outputs": [
        {
          "output_type": "stream",
          "text": [
            "[{'make': 'Nokia', 'model': 216, 'color': 'Black'}, {'make': 'Samsung', 'model': 7, 'color': 'Blue'}, {'make': 'Mi Max', 'model': '2', 'color': 'Gold'}]\n"
          ],
          "name": "stdout"
        }
      ]
    },
    {
      "cell_type": "markdown",
      "metadata": {
        "id": "8qJkdrPSWKpB"
      },
      "source": [
        "**Write a Python program to filter a list of integers using Lambda**"
      ]
    },
    {
      "cell_type": "code",
      "metadata": {
        "colab": {
          "base_uri": "https://localhost:8080/"
        },
        "id": "jijQdRsqVzKL",
        "outputId": "aca3303d-fd9d-4af6-928b-22e641740130"
      },
      "source": [
        "org_list = [1, 2, 3, 4, 5, 6, 7, 8, 9, 10]\n",
        "\n",
        "even = list(filter(lambda x: x%2==0,org_list))\n",
        "odd = list(filter(lambda x: x%2 !=0,org_list))\n",
        "print(even)\n",
        "print(odd)\n"
      ],
      "execution_count": null,
      "outputs": [
        {
          "output_type": "stream",
          "text": [
            "[2, 4, 6, 8, 10]\n",
            "[1, 3, 5, 7, 9]\n"
          ],
          "name": "stdout"
        }
      ]
    },
    {
      "cell_type": "markdown",
      "metadata": {
        "id": "roRF-SfaYFeq"
      },
      "source": [
        "**Write a Python program to square and cube every number in a given list of integers using Lambda. Go to the editor**"
      ]
    },
    {
      "cell_type": "code",
      "metadata": {
        "colab": {
          "base_uri": "https://localhost:8080/"
        },
        "id": "xV6_zSEAWs8c",
        "outputId": "61ed8c2c-977f-4a40-f82b-4026ba0782a8"
      },
      "source": [
        "org_list = [1, 2, 3, 4, 5, 6, 7, 8, 9, 10]\n",
        "\n",
        "square = list(map(lambda x: x**2, org_list))\n",
        "cubes = list(map(lambda x: x**3, org_list))\n",
        " \n",
        "print(square)\n",
        "print(cubes)"
      ],
      "execution_count": null,
      "outputs": [
        {
          "output_type": "stream",
          "text": [
            "[1, 4, 9, 16, 25, 36, 49, 64, 81, 100]\n",
            "[1, 8, 27, 64, 125, 216, 343, 512, 729, 1000]\n"
          ],
          "name": "stdout"
        }
      ]
    },
    {
      "cell_type": "markdown",
      "metadata": {
        "id": "95joMaaSaILI"
      },
      "source": [
        "**Write a Python program to extract year, month, date and time using Lambda.**"
      ]
    },
    {
      "cell_type": "code",
      "metadata": {
        "colab": {
          "base_uri": "https://localhost:8080/"
        },
        "id": "WkXYheafYw5K",
        "outputId": "0feb3657-8f2d-4807-f67d-f7e59764c73c"
      },
      "source": [
        "import time\n",
        "import datetime\n",
        "curr_time = datetime.datetime.now()\n",
        "print(curr_time)\n",
        "year = lambda x: x.year\n",
        "month = lambda y: y.month\n",
        "day = lambda z: z.day\n",
        "time = lambda t: t.time()\n",
        "\n",
        "print(\"YEAR: \" ,year(curr_time))\n",
        "print(\"MONTH: \" ,month(curr_time))\n",
        "print(\"DATE: \" , day(curr_time))\n",
        "print(\"TIME: \", time(curr_time))"
      ],
      "execution_count": null,
      "outputs": [
        {
          "output_type": "stream",
          "text": [
            "2021-04-17 10:50:45.302931\n",
            "YEAR:  2021\n",
            "MONTH:  4\n",
            "DATE:  17\n",
            "TIME:  10:50:45.302931\n"
          ],
          "name": "stdout"
        }
      ]
    },
    {
      "cell_type": "markdown",
      "metadata": {
        "id": "g3a81R5nqrhY"
      },
      "source": [
        "**Write a Python program to create Fibonacci series upto n using Lambda.**"
      ]
    },
    {
      "cell_type": "code",
      "metadata": {
        "colab": {
          "base_uri": "https://localhost:8080/"
        },
        "id": "c0DgnSvOalcV",
        "outputId": "ea48334a-d2ae-40cd-a204-7c2a937aa504"
      },
      "source": [
        "from functools import reduce\n",
        "fib_series = lambda n: reduce(lambda x,_: x+[x[-1]+x[-2]],range(n-2),[0,1])\n",
        "print(\"Fabo series \")\n",
        "print(fib_series(6))\n"
      ],
      "execution_count": null,
      "outputs": [
        {
          "output_type": "stream",
          "text": [
            "Fabo series \n",
            "[0, 1, 1, 2, 3, 5]\n"
          ],
          "name": "stdout"
        }
      ]
    },
    {
      "cell_type": "code",
      "metadata": {
        "id": "O3sJwdx0sAju",
        "colab": {
          "base_uri": "https://localhost:8080/"
        },
        "outputId": "ed568b1b-5b6b-4d04-a141-e46c63d6c33e"
      },
      "source": [
        "s1 = ('a','b','c')\n",
        "s2 = ('e','f')\n",
        "print(s1+s2)"
      ],
      "execution_count": null,
      "outputs": [
        {
          "output_type": "stream",
          "text": [
            "('a', 'b', 'c', 'e', 'f')\n"
          ],
          "name": "stdout"
        }
      ]
    },
    {
      "cell_type": "code",
      "metadata": {
        "colab": {
          "base_uri": "https://localhost:8080/"
        },
        "id": "-hdcTY8NzmW0",
        "outputId": "bcf4c6ff-2bf0-41df-cfea-5a3ed4ac122e"
      },
      "source": [
        "list1=[80,90,100,120]\n",
        "print(list1[::-2])"
      ],
      "execution_count": null,
      "outputs": [
        {
          "output_type": "stream",
          "text": [
            "[120, 90]\n"
          ],
          "name": "stdout"
        }
      ]
    },
    {
      "cell_type": "markdown",
      "metadata": {
        "id": "O7WYOHDM1if1"
      },
      "source": [
        "**Write a Python program to create an Enum object and display a member name and value.**"
      ]
    },
    {
      "cell_type": "code",
      "metadata": {
        "colab": {
          "base_uri": "https://localhost:8080/"
        },
        "id": "t5FzmO1q0D2R",
        "outputId": "a65dc165-e215-4f7b-a76e-fe8ee88ae445"
      },
      "source": [
        "from enum import Enum\n",
        "class country(Enum):\n",
        "  Afghanistan=93\n",
        "  India=100\n",
        "  Ghana=80\n",
        "  Turkey=83\n",
        "for data in country:\n",
        "  print(f'{data.name} = {data.value}')"
      ],
      "execution_count": null,
      "outputs": [
        {
          "output_type": "stream",
          "text": [
            "Afghanistan = 93\n",
            "India = 100\n",
            "Ghana = 80\n",
            "Turkey = 83\n"
          ],
          "name": "stdout"
        }
      ]
    },
    {
      "cell_type": "markdown",
      "metadata": {
        "id": "YZZqKzUw4Ifw"
      },
      "source": [
        "**Write a Python program to display all the member name of an enum class ordered by their values.**"
      ]
    },
    {
      "cell_type": "code",
      "metadata": {
        "colab": {
          "base_uri": "https://localhost:8080/"
        },
        "id": "2SLGYnYj11xL",
        "outputId": "76c642bd-61ef-4bd7-ed38-97044ab69ee0"
      },
      "source": [
        "import enum\n",
        "class Country(enum.IntEnum):\n",
        "    Afghanistan = 93\n",
        "    Albania = 355\n",
        "    Algeria = 213\n",
        "    Andorra = 376\n",
        "    Angola = 244\n",
        "    Antarctica = 672\n",
        "print('Country Name ordered by Country Code:')\n",
        "print('\\n'.join('  ' + c.name for c in sorted(Country)))\n"
      ],
      "execution_count": null,
      "outputs": [
        {
          "output_type": "stream",
          "text": [
            "Country Name ordered by Country Code:\n",
            "  Afghanistan\n",
            "  Algeria\n",
            "  Angola\n",
            "  Albania\n",
            "  Andorra\n",
            "  Antarctica\n"
          ],
          "name": "stdout"
        }
      ]
    },
    {
      "cell_type": "markdown",
      "metadata": {
        "id": "yk3_a5Se61Mv"
      },
      "source": [
        "**Write a Python program to sum all the items in a list.**"
      ]
    },
    {
      "cell_type": "code",
      "metadata": {
        "colab": {
          "base_uri": "https://localhost:8080/"
        },
        "id": "jAjfhcwe5R7_",
        "outputId": "81d10725-a5eb-46f2-d3bd-38e9570a4bf6"
      },
      "source": [
        "list_1 = [100,23,56,76,86,88]\n",
        "sum =0\n",
        "for x in list_1:\n",
        "  \n",
        "  sum = sum + x\n",
        "  #print(sum)\n",
        "print(sum)\n"
      ],
      "execution_count": null,
      "outputs": [
        {
          "output_type": "stream",
          "text": [
            "429\n"
          ],
          "name": "stdout"
        }
      ]
    },
    {
      "cell_type": "markdown",
      "metadata": {
        "id": "4lRl_lrC-eSb"
      },
      "source": [
        "**Write a Python program to multiplies all the items in a list.**"
      ]
    },
    {
      "cell_type": "code",
      "metadata": {
        "colab": {
          "base_uri": "https://localhost:8080/"
        },
        "id": "1ZVON1Zs7ogy",
        "outputId": "c1f5b88b-e6f8-4361-df58-c2ce6d4820ea"
      },
      "source": [
        "list_1 = [100,10]\n",
        "mul = 1\n",
        "for x in list_1:\n",
        "  mul = mul*x\n",
        "print(mul)"
      ],
      "execution_count": null,
      "outputs": [
        {
          "output_type": "stream",
          "text": [
            "1000\n"
          ],
          "name": "stdout"
        }
      ]
    },
    {
      "cell_type": "markdown",
      "metadata": {
        "id": "Xy0mTp2TCGRj"
      },
      "source": [
        "**Write a Python program to get the largest number from a list**"
      ]
    },
    {
      "cell_type": "code",
      "metadata": {
        "colab": {
          "base_uri": "https://localhost:8080/"
        },
        "id": "p3dhrIH__P33",
        "outputId": "5463520b-c1cd-4c2f-cb5e-7fe5e61b80f5"
      },
      "source": [
        "list_1 = [10,20,30,40,50]\n",
        "max = list_1[0]\n",
        "for data in list_1:\n",
        "  if data > max:\n",
        "    max = data\n",
        "print(max)\n"
      ],
      "execution_count": null,
      "outputs": [
        {
          "output_type": "stream",
          "text": [
            "50\n"
          ],
          "name": "stdout"
        }
      ]
    },
    {
      "cell_type": "markdown",
      "metadata": {
        "id": "cWYxbtAOOWSA"
      },
      "source": [
        "**Write a Python program to get the smallest number from a list.**"
      ]
    },
    {
      "cell_type": "code",
      "metadata": {
        "colab": {
          "base_uri": "https://localhost:8080/"
        },
        "id": "MkyPhhfHC0h9",
        "outputId": "c3161fb2-41ea-4534-87e6-3d64124a7d4e"
      },
      "source": [
        "new_list = [10,20,30,40,50]\n",
        "min = new_list[0]\n",
        "for data in new_list:\n",
        "  if data < min:\n",
        "    min = data\n",
        "print(min)\n"
      ],
      "execution_count": null,
      "outputs": [
        {
          "output_type": "stream",
          "text": [
            "10\n"
          ],
          "name": "stdout"
        }
      ]
    },
    {
      "cell_type": "markdown",
      "metadata": {
        "id": "o72pas5hQt-f"
      },
      "source": [
        "**Write a Python program to remove duplicates from a list**"
      ]
    },
    {
      "cell_type": "code",
      "metadata": {
        "colab": {
          "base_uri": "https://localhost:8080/"
        },
        "id": "eVPCAHmVPNLZ",
        "outputId": "d58c4f3d-589b-4289-e6df-e3f7cc40c34f"
      },
      "source": [
        "a = [10,10,20,20,30,30]\n",
        "emp_list = []\n",
        "uniq_set = set()\n",
        "for x in a:\n",
        "  if x not in uniq_set:\n",
        "    emp_list.append(x)\n",
        "    uniq_set.add(x)\n",
        "  \n",
        "print(emp_list)\n",
        "\n"
      ],
      "execution_count": null,
      "outputs": [
        {
          "output_type": "stream",
          "text": [
            "[10, 20, 30]\n"
          ],
          "name": "stdout"
        }
      ]
    },
    {
      "cell_type": "markdown",
      "metadata": {
        "id": "r6bLZCxxw-8V"
      },
      "source": [
        "**Write a Python program to create a tuple.**"
      ]
    },
    {
      "cell_type": "code",
      "metadata": {
        "id": "W-KCoD0wSWnj",
        "colab": {
          "base_uri": "https://localhost:8080/"
        },
        "outputId": "6ca89652-714d-4d1a-9c85-659345553b85"
      },
      "source": [
        "x = ()\n",
        "def tuple_1(x):\n",
        "  new_t = tuple(x)\n",
        "  print(new_t)\n",
        "  "
      ],
      "execution_count": null,
      "outputs": [
        {
          "output_type": "stream",
          "text": [
            "('abc', 'defg', 'ghik')\n"
          ],
          "name": "stdout"
        }
      ]
    },
    {
      "cell_type": "code",
      "metadata": {
        "id": "UJ4gTrDlynxK",
        "colab": {
          "base_uri": "https://localhost:8080/"
        },
        "outputId": "88fd7ff8-6e07-42fd-ef55-3e5846df762a"
      },
      "source": [
        "print(\"Hello World\",\"Hello World\",sep=\"\\n\")"
      ],
      "execution_count": null,
      "outputs": [
        {
          "output_type": "stream",
          "text": [
            "Hello World\n",
            "Hello World\n"
          ],
          "name": "stdout"
        }
      ]
    },
    {
      "cell_type": "code",
      "metadata": {
        "id": "ZBPa9Tv8wGZg",
        "colab": {
          "base_uri": "https://localhost:8080/"
        },
        "outputId": "106a1ea9-29e4-4582-8285-7f4652837c3c"
      },
      "source": [
        "list_1 = [\"Daniel\",\"Horse\",\"Nigel\",\"Alice\",\"Bob\"]\n",
        "list_2 = [\"Woods\",\"White\",\"Methew\",\"Richard\",\"Brown\"]\n",
        "sum_list = list_1 + list_2\n",
        "list_1.reverse()\n",
        "list_2.sort()\n",
        "print(list_1)\n",
        "print(list_2)\n",
        "print(\"Full list\",sum_list)\n",
        "sum_list.clear() #will empty the list\n",
        "print(\"Cleared list\",sum_list)\n",
        "#copy a list\n",
        "list_copy = list_1.copy()\n",
        "print(list_copy)\n",
        "del list_1\n",
        "#list_1 is no longer available"
      ],
      "execution_count": null,
      "outputs": [
        {
          "output_type": "stream",
          "text": [
            "['Bob', 'Alice', 'Nigel', 'Horse', 'Daniel']\n",
            "['Brown', 'Methew', 'Richard', 'White', 'Woods']\n",
            "Full list ['Daniel', 'Horse', 'Nigel', 'Alice', 'Bob', 'Woods', 'White', 'Methew', 'Richard', 'Brown']\n",
            "Cleared list []\n",
            "['Bob', 'Alice', 'Nigel', 'Horse', 'Daniel']\n"
          ],
          "name": "stdout"
        }
      ]
    },
    {
      "cell_type": "code",
      "metadata": {
        "colab": {
          "base_uri": "https://localhost:8080/"
        },
        "id": "9j1nz4it07q7",
        "outputId": "70730d85-792c-4ccc-d0d2-a488ea86172c"
      },
      "source": [
        "#tuple once created, they can't be changed (Immutable)\n",
        "#----------------------------------------------------\n",
        "tup = ('alice',30,3000,9088876765,'Ohio')\n",
        "print(tup[::-2])\n",
        "'Ohio' in tup\n",
        "'breako' not in tup"
      ],
      "execution_count": null,
      "outputs": [
        {
          "output_type": "stream",
          "text": [
            "('Ohio', 3000, 'alice')\n"
          ],
          "name": "stdout"
        },
        {
          "output_type": "execute_result",
          "data": {
            "text/plain": [
              "True"
            ]
          },
          "metadata": {
            "tags": []
          },
          "execution_count": 26
        }
      ]
    },
    {
      "cell_type": "code",
      "metadata": {
        "id": "od7kUZm34lyn",
        "colab": {
          "base_uri": "https://localhost:8080/"
        },
        "outputId": "47609f6c-2a54-4e6f-cadd-c35d95251676"
      },
      "source": [
        "#dictionary are mutable\n",
        "name_ages = {\"Alice\": 20,\"Bob\": 23,\"Charles\": 40,\"Daniel\": 34,\"Eela\": 41}\n",
        "name_ages['Eela']\n",
        "print(name_ages.keys())\n",
        "print(name_ages.values())\n",
        "\n",
        "print(name_ages.items())\n",
        "name_ages['Bob'] = 20\n",
        "print(name_ages)\n",
        "#pop\n",
        "name_ages.pop('Eela')\n",
        "#del\n",
        "del name_ages['Daniel']\n",
        "print(name_ages)"
      ],
      "execution_count": null,
      "outputs": [
        {
          "output_type": "stream",
          "text": [
            "dict_keys(['Alice', 'Bob', 'Charles', 'Daniel', 'Eela'])\n",
            "dict_values([20, 23, 40, 34, 41])\n",
            "dict_items([('Alice', 20), ('Bob', 23), ('Charles', 40), ('Daniel', 34), ('Eela', 41)])\n",
            "{'Alice': 20, 'Bob': 20, 'Charles': 40, 'Daniel': 34, 'Eela': 41}\n",
            "{'Alice': 20, 'Bob': 20, 'Charles': 40}\n"
          ],
          "name": "stdout"
        }
      ]
    },
    {
      "cell_type": "code",
      "metadata": {
        "id": "A3roLhPp8xnb",
        "colab": {
          "base_uri": "https://localhost:8080/"
        },
        "outputId": "3843a81d-b852-4d43-8bd6-b6a4505e4695"
      },
      "source": [
        "count=0\n",
        "while count < 10:\n",
        "  count+=1\n",
        "  print(f'This loop is running {count} times')"
      ],
      "execution_count": null,
      "outputs": [
        {
          "output_type": "stream",
          "text": [
            "This loop is running 1 times\n",
            "This loop is running 2 times\n",
            "This loop is running 3 times\n",
            "This loop is running 4 times\n",
            "This loop is running 5 times\n",
            "This loop is running 6 times\n",
            "This loop is running 7 times\n",
            "This loop is running 8 times\n",
            "This loop is running 9 times\n",
            "This loop is running 10 times\n"
          ],
          "name": "stdout"
        }
      ]
    },
    {
      "cell_type": "code",
      "metadata": {
        "id": "jUkaIZaP6bOP",
        "colab": {
          "base_uri": "https://localhost:8080/"
        },
        "outputId": "196b9ab5-2b94-4a1a-b496-06df5b8bb99b"
      },
      "source": [
        "nu = 60\n",
        "while nu < 75:\n",
        "  print(nu)\n",
        "  nu+=3\n",
        "  "
      ],
      "execution_count": null,
      "outputs": [
        {
          "output_type": "stream",
          "text": [
            "60\n",
            "63\n",
            "66\n",
            "69\n",
            "72\n"
          ],
          "name": "stdout"
        }
      ]
    },
    {
      "cell_type": "code",
      "metadata": {
        "colab": {
          "base_uri": "https://localhost:8080/"
        },
        "id": "rH32ZXvg-gZF",
        "outputId": "77fe953c-f11a-43eb-c8a4-91e57b31861a"
      },
      "source": [
        "pip install numpy"
      ],
      "execution_count": null,
      "outputs": [
        {
          "output_type": "stream",
          "text": [
            "Requirement already satisfied: numpy in /usr/local/lib/python3.7/dist-packages (1.19.5)\n"
          ],
          "name": "stdout"
        }
      ]
    },
    {
      "cell_type": "code",
      "metadata": {
        "id": "1wqwdFf2LPGE",
        "colab": {
          "base_uri": "https://localhost:8080/"
        },
        "outputId": "2d4719ad-92bb-44b0-ecfa-e2c89a702176"
      },
      "source": [
        "import numpy as np\n",
        "some_list = [1,2,3,4,5,6]\n",
        "arr = np.array(some_list)\n",
        "print(arr)\n",
        "print(type(arr))"
      ],
      "execution_count": null,
      "outputs": [
        {
          "output_type": "stream",
          "text": [
            "[1 2 3 4 5 6]\n",
            "<class 'numpy.ndarray'>\n"
          ],
          "name": "stdout"
        }
      ]
    },
    {
      "cell_type": "code",
      "metadata": {
        "id": "8BPEr_a9MJ5H",
        "colab": {
          "base_uri": "https://localhost:8080/"
        },
        "outputId": "808d1c8d-5ed1-4e6a-d969-864e5987ba6e"
      },
      "source": [
        "import datetime\n",
        "import random\n",
        "\n",
        "current_time = datetime.datetime.now()\n",
        "print(current_time)"
      ],
      "execution_count": null,
      "outputs": [
        {
          "output_type": "stream",
          "text": [
            "2021-04-27 17:30:15.503174\n"
          ],
          "name": "stdout"
        }
      ]
    },
    {
      "cell_type": "code",
      "metadata": {
        "id": "_tz8h8d6YVhk",
        "outputId": "1796f9e4-6c06-403f-fa41-67ec7e066aaf",
        "colab": {
          "base_uri": "https://localhost:8080/"
        }
      },
      "source": [
        "pip install pandas"
      ],
      "execution_count": 2,
      "outputs": [
        {
          "output_type": "stream",
          "text": [
            "Requirement already satisfied: pandas in /usr/local/lib/python3.7/dist-packages (1.1.5)\n",
            "Requirement already satisfied: python-dateutil>=2.7.3 in /usr/local/lib/python3.7/dist-packages (from pandas) (2.8.1)\n",
            "Requirement already satisfied: pytz>=2017.2 in /usr/local/lib/python3.7/dist-packages (from pandas) (2018.9)\n",
            "Requirement already satisfied: numpy>=1.15.4 in /usr/local/lib/python3.7/dist-packages (from pandas) (1.19.5)\n",
            "Requirement already satisfied: six>=1.5 in /usr/local/lib/python3.7/dist-packages (from python-dateutil>=2.7.3->pandas) (1.15.0)\n"
          ],
          "name": "stdout"
        }
      ]
    },
    {
      "cell_type": "code",
      "metadata": {
        "id": "OFN1JXPABZdJ",
        "outputId": "64ee30c0-ae73-4aae-ab39-e73c52e70d27",
        "colab": {
          "base_uri": "https://localhost:8080/",
          "height": 142
        }
      },
      "source": [
        "import pandas as pd\n",
        "\n",
        "df = pd.DataFrame({\n",
        "                   \"name\": [\"Alice\",\"Bob\",\"Charlie\",\"Douglas\"],\n",
        "                   \"gender\": [\"female\",\"male\",\"male\",\"male\"],\n",
        "                   \"age\": [20,23,44,34] \n",
        "                   })\n",
        "df.groupby(by=\"gender\").count()\n"
      ],
      "execution_count": 9,
      "outputs": [
        {
          "output_type": "execute_result",
          "data": {
            "text/html": [
              "<div>\n",
              "<style scoped>\n",
              "    .dataframe tbody tr th:only-of-type {\n",
              "        vertical-align: middle;\n",
              "    }\n",
              "\n",
              "    .dataframe tbody tr th {\n",
              "        vertical-align: top;\n",
              "    }\n",
              "\n",
              "    .dataframe thead th {\n",
              "        text-align: right;\n",
              "    }\n",
              "</style>\n",
              "<table border=\"1\" class=\"dataframe\">\n",
              "  <thead>\n",
              "    <tr style=\"text-align: right;\">\n",
              "      <th></th>\n",
              "      <th>name</th>\n",
              "      <th>age</th>\n",
              "    </tr>\n",
              "    <tr>\n",
              "      <th>gender</th>\n",
              "      <th></th>\n",
              "      <th></th>\n",
              "    </tr>\n",
              "  </thead>\n",
              "  <tbody>\n",
              "    <tr>\n",
              "      <th>female</th>\n",
              "      <td>1</td>\n",
              "      <td>1</td>\n",
              "    </tr>\n",
              "    <tr>\n",
              "      <th>male</th>\n",
              "      <td>3</td>\n",
              "      <td>3</td>\n",
              "    </tr>\n",
              "  </tbody>\n",
              "</table>\n",
              "</div>"
            ],
            "text/plain": [
              "        name  age\n",
              "gender           \n",
              "female     1    1\n",
              "male       3    3"
            ]
          },
          "metadata": {
            "tags": []
          },
          "execution_count": 9
        }
      ]
    },
    {
      "cell_type": "code",
      "metadata": {
        "id": "OPly2wMpCWBB"
      },
      "source": [
        "import os \n"
      ],
      "execution_count": null,
      "outputs": []
    }
  ]
}