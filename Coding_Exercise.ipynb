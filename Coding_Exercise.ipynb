{
  "nbformat": 4,
  "nbformat_minor": 0,
  "metadata": {
    "colab": {
      "name": "Coding Exercise.ipynb",
      "provenance": [],
      "collapsed_sections": [],
      "authorship_tag": "ABX9TyP7lVf+F1d4k/s+T1ZBtThr",
      "include_colab_link": true
    },
    "kernelspec": {
      "name": "python3",
      "display_name": "Python 3"
    }
  },
  "cells": [
    {
      "cell_type": "markdown",
      "metadata": {
        "id": "view-in-github",
        "colab_type": "text"
      },
      "source": [
        "<a href=\"https://colab.research.google.com/github/sumitpurandare/python_essentials/blob/master/Coding_Exercise.ipynb\" target=\"_parent\"><img src=\"https://colab.research.google.com/assets/colab-badge.svg\" alt=\"Open In Colab\"/></a>"
      ]
    },
    {
      "cell_type": "code",
      "metadata": {
        "colab": {
          "base_uri": "https://localhost:8080/"
        },
        "id": "ikUulIITXNTQ",
        "outputId": "36e42ecd-a1cc-4327-87a0-42732786dbdc"
      },
      "source": [
        "tuple_1 = (1,2,3,4,5,6,7,8,9,10)\n",
        "tupl_1 = []\n",
        "tupl_2 = []\n",
        "\n",
        "for i in range(0,5):\n",
        "  tupl_1.append(tuple_1[i])\n",
        "  \n",
        "for i in range(5,10):\n",
        "  tupl_2.append(tuple_1[i])\n",
        "  \n",
        "print(tupl_1)\n",
        "print(tupl_2)\n",
        "\n",
        "\n"
      ],
      "execution_count": null,
      "outputs": [
        {
          "output_type": "stream",
          "text": [
            "[1, 2, 3, 4, 5]\n",
            "[6, 7, 8, 9, 10]\n"
          ],
          "name": "stdout"
        }
      ]
    },
    {
      "cell_type": "code",
      "metadata": {
        "colab": {
          "base_uri": "https://localhost:8080/"
        },
        "id": "A4coy0s8bKzZ",
        "outputId": "bee2747f-ce4c-4135-9032-319da94c257d"
      },
      "source": [
        "tup = (1,2,3,4,5,6,7,8,9,10)\n",
        "tupl = []\n",
        "\n",
        "for i in range(0,10):\n",
        "  if i%2 !=0:\n",
        "    tupl.append(tup[i])\n",
        "    \n",
        "\n",
        "print(tupl)  "
      ],
      "execution_count": null,
      "outputs": [
        {
          "output_type": "stream",
          "text": [
            "[2, 4, 6, 8, 10]\n"
          ],
          "name": "stdout"
        }
      ]
    },
    {
      "cell_type": "code",
      "metadata": {
        "colab": {
          "base_uri": "https://localhost:8080/"
        },
        "id": "uKVTWI4zdF__",
        "outputId": "bf3b6440-aeae-4aa5-ed30-ed15f25f7c8c"
      },
      "source": [
        "tpl1 = filter(lambda x:x%2==0,tup)"
      ],
      "execution_count": null,
      "outputs": [
        {
          "output_type": "stream",
          "text": [
            "(1, 2, 3, 4, 5, 6, 7, 8, 9, 10)\n"
          ],
          "name": "stdout"
        }
      ]
    },
    {
      "cell_type": "code",
      "metadata": {
        "colab": {
          "base_uri": "https://localhost:8080/"
        },
        "id": "VrXppuqmeQZm",
        "outputId": "3c01254a-7710-4e27-c6a6-693bd6d1e577"
      },
      "source": [
        "user_input = input(\"Enter a string (yes YES or Yes\")\n",
        "if (user_input == 'YES' or user_input == 'Yes' or user_input == 'yes'):\n",
        "  print('yes')\n",
        "else:\n",
        "  print('No')"
      ],
      "execution_count": null,
      "outputs": [
        {
          "output_type": "stream",
          "text": [
            "Enter a string (yes YES or Yesfef\n",
            "No\n"
          ],
          "name": "stdout"
        }
      ]
    },
    {
      "cell_type": "markdown",
      "metadata": {
        "id": "FmAxhloY8i3E"
      },
      "source": [
        "**Write a program which can map() to make a list whose elements are square of elements in [1,2,3,4,5,6,7,8,9,10].**"
      ]
    },
    {
      "cell_type": "code",
      "metadata": {
        "colab": {
          "base_uri": "https://localhost:8080/"
        },
        "id": "WfMFXKFq8TNU",
        "outputId": "d9a3c66f-9df5-4dde-91d7-747c7db2e67e"
      },
      "source": [
        "li = [1,2,3,4,5,6,7,8,9,10]\n",
        "function = map(lambda x : x**2 ,li)\n",
        "print(list(function))"
      ],
      "execution_count": null,
      "outputs": [
        {
          "output_type": "stream",
          "text": [
            "[1, 4, 9, 16, 25, 36, 49, 64, 81, 100]\n"
          ],
          "name": "stdout"
        }
      ]
    },
    {
      "cell_type": "code",
      "metadata": {
        "colab": {
          "base_uri": "https://localhost:8080/"
        },
        "id": "MnbZi5Cm9ErS",
        "outputId": "347aad67-3f93-4a7f-f5b9-b1eda8937707"
      },
      "source": [
        "sq_nu = map(lambda x:x**2, filter(lambda x: x%2==0,li))\n",
        "print(list(sq_nu))"
      ],
      "execution_count": null,
      "outputs": [
        {
          "output_type": "stream",
          "text": [
            "[4, 16, 36, 64, 100]\n"
          ],
          "name": "stdout"
        }
      ]
    },
    {
      "cell_type": "markdown",
      "metadata": {
        "id": "f46aooHG-o7m"
      },
      "source": [
        "**Write a program which can filter() to make a list whose elements are even number between 1 and 20 (both included).**"
      ]
    },
    {
      "cell_type": "code",
      "metadata": {
        "colab": {
          "base_uri": "https://localhost:8080/"
        },
        "id": "tMhp3Wu0-tq1",
        "outputId": "83e98ca0-b205-42e7-f8d0-18cb83be1d4b"
      },
      "source": [
        "even_nu = filter(lambda x: x%2==0, range(1,20))\n",
        "print(list(even_nu))"
      ],
      "execution_count": null,
      "outputs": [
        {
          "output_type": "stream",
          "text": [
            "[2, 4, 6, 8, 10, 12, 14, 16, 18]\n"
          ],
          "name": "stdout"
        }
      ]
    },
    {
      "cell_type": "markdown",
      "metadata": {
        "id": "dKaSigciADMo"
      },
      "source": [
        "**Write a program which can map() to make a list whose elements are square of numbers between 1 and 20 (both included).**"
      ]
    },
    {
      "cell_type": "code",
      "metadata": {
        "colab": {
          "base_uri": "https://localhost:8080/"
        },
        "id": "vfA5LNttAHEd",
        "outputId": "251bd8ab-51a4-40d1-c696-093cfe01b845"
      },
      "source": [
        "elem = map(lambda x: x**2 ,range(1,20))\n",
        "print(list(elem))"
      ],
      "execution_count": null,
      "outputs": [
        {
          "output_type": "stream",
          "text": [
            "[1, 4, 9, 16, 25, 36, 49, 64, 81, 100, 121, 144, 169, 196, 225, 256, 289, 324, 361]\n"
          ],
          "name": "stdout"
        }
      ]
    },
    {
      "cell_type": "markdown",
      "metadata": {
        "id": "tVK-0Bq1Atfe"
      },
      "source": [
        "**Define a class named American which has a static method called printNationality.**"
      ]
    },
    {
      "cell_type": "code",
      "metadata": {
        "colab": {
          "base_uri": "https://localhost:8080/"
        },
        "id": "0aY4XNzmAyzb",
        "outputId": "d640ebb7-28cb-45ca-8496-dc24999b040e"
      },
      "source": [
        "class American(object):\n",
        "  @staticmethod\n",
        "  def printNationality():\n",
        "    print(\"America\")\n",
        "  \n",
        "us = American()\n",
        "us.printNationality()\n",
        "American.printNationality()"
      ],
      "execution_count": null,
      "outputs": [
        {
          "output_type": "stream",
          "text": [
            "America\n",
            "America\n"
          ],
          "name": "stdout"
        }
      ]
    },
    {
      "cell_type": "markdown",
      "metadata": {
        "id": "829f5KpNCHZD"
      },
      "source": [
        "**Define a class named American and its subclass NewYorker.**"
      ]
    },
    {
      "cell_type": "code",
      "metadata": {
        "colab": {
          "base_uri": "https://localhost:8080/"
        },
        "id": "Sh-y936HCRPS",
        "outputId": "eb755bd8-dcb7-4ef6-f260-b23bb9698068"
      },
      "source": [
        "class American(object):\n",
        "  def __main__(self):\n",
        "    print(\"Main Class\")\n",
        "\n",
        "class NewYorker(American):\n",
        "  def newyork(self):\n",
        "      print(\"Newyorkis in America\")\n",
        "\n",
        "obj1 = American()\n",
        "obj2 = NewYorker()\n",
        "print(obj1)\n",
        "print(obj2)\n",
        "obj1.__main__()\n",
        "obj2.newyork()\n"
      ],
      "execution_count": null,
      "outputs": [
        {
          "output_type": "stream",
          "text": [
            "<__main__.American object at 0x7fb86e8d32d0>\n",
            "<__main__.NewYorker object at 0x7fb86e8d3690>\n",
            "Main Class\n",
            "Newyorkis in America\n"
          ],
          "name": "stdout"
        }
      ]
    },
    {
      "cell_type": "code",
      "metadata": {
        "id": "p0Do093CBMff"
      },
      "source": [
        ""
      ],
      "execution_count": null,
      "outputs": []
    },
    {
      "cell_type": "markdown",
      "metadata": {
        "id": "EM-YKL69DwWf"
      },
      "source": [
        "**Define a class named Circle which can be constructed by a radius. The Circle class has a method which can compute the area.**"
      ]
    },
    {
      "cell_type": "code",
      "metadata": {
        "colab": {
          "base_uri": "https://localhost:8080/"
        },
        "id": "755SkV6eD07C",
        "outputId": "9da87bfe-3d62-40bf-e52e-3c914dce44c1"
      },
      "source": [
        "import math\n",
        "class Circle:\n",
        "  def areaofcircle(self,radius):\n",
        "    self.radius = radius\n",
        "    area = math.pi*(radius**2)\n",
        "    print(f\" Area is {math.ceil(area)} Sq metre\")\n",
        "  \n",
        "obj = Circle()\n",
        "obj.areaofcircle(23)"
      ],
      "execution_count": null,
      "outputs": [
        {
          "output_type": "stream",
          "text": [
            " Area is 1662 Sq metre\n"
          ],
          "name": "stdout"
        }
      ]
    },
    {
      "cell_type": "markdown",
      "metadata": {
        "id": "O-eeaIlPHOaA"
      },
      "source": [
        "**Define a class named Rectangle which can be constructed by a length and width. The Rectangle class has a method which can compute the area.**"
      ]
    },
    {
      "cell_type": "code",
      "metadata": {
        "colab": {
          "base_uri": "https://localhost:8080/"
        },
        "id": "0V3tCMHiF7MG",
        "outputId": "130672d8-9ed2-400c-e268-85a27fd767ba"
      },
      "source": [
        "class Rectangle:\n",
        "  def __init__(self,l,b):\n",
        "    self.length = l\n",
        "    self.breadth = b\n",
        "  def area(self):\n",
        "    return self.length*self.breadth\n",
        "\n",
        "obj = Rectangle(23,67)\n",
        "print(obj.area())\n"
      ],
      "execution_count": null,
      "outputs": [
        {
          "output_type": "stream",
          "text": [
            "1541\n"
          ],
          "name": "stdout"
        }
      ]
    },
    {
      "cell_type": "code",
      "metadata": {
        "id": "LUMnHlQgH9Ru"
      },
      "source": [
        ""
      ],
      "execution_count": null,
      "outputs": []
    },
    {
      "cell_type": "markdown",
      "metadata": {
        "id": "tUlU1xSwKYlZ"
      },
      "source": [
        "**Define a class named Shape and its subclass Square. The Square class has an init function which takes a length as argument. Both classes have a area function which can print the area of the shape where Shape's area is 0 by default.**"
      ]
    },
    {
      "cell_type": "code",
      "metadata": {
        "colab": {
          "base_uri": "https://localhost:8080/"
        },
        "id": "Qr3eMn2XKact",
        "outputId": "6d4a742e-69bb-4a50-cedd-98abbfd6f2a7"
      },
      "source": [
        "class Shape():\n",
        "    def __init__(self):\n",
        "        pass\n",
        "\n",
        "    def area(self):\n",
        "        return 0\n",
        "\n",
        "class Square(Shape):\n",
        "    def __init__(self,length = 0):\n",
        "        Shape.__init__(self)\n",
        "        self.length = length\n",
        "\n",
        "    def area(self):\n",
        "        return self.length*self.length\n",
        "\n",
        "Asqr = Square(5)\n",
        "print(Asqr.area())      # prints 25 as given argument\n",
        "\n",
        "print(Square().area())  # prints zero as default area"
      ],
      "execution_count": null,
      "outputs": [
        {
          "output_type": "stream",
          "text": [
            "25\n",
            "0\n"
          ],
          "name": "stdout"
        }
      ]
    },
    {
      "cell_type": "markdown",
      "metadata": {
        "id": "urgJuXRKM_cQ"
      },
      "source": [
        "**Please raise a RuntimeError exception.**"
      ]
    },
    {
      "cell_type": "code",
      "metadata": {
        "colab": {
          "base_uri": "https://localhost:8080/",
          "height": 163
        },
        "id": "X_3H6vJUNCM9",
        "outputId": "ff35ab58-bc22-49ee-88ec-7c0e44c7595f"
      },
      "source": [
        "raise RuntimeError('something wrong')"
      ],
      "execution_count": null,
      "outputs": [
        {
          "output_type": "error",
          "ename": "RuntimeError",
          "evalue": "ignored",
          "traceback": [
            "\u001b[0;31m---------------------------------------------------------------------------\u001b[0m",
            "\u001b[0;31mRuntimeError\u001b[0m                              Traceback (most recent call last)",
            "\u001b[0;32m<ipython-input-81-53fba0153627>\u001b[0m in \u001b[0;36m<module>\u001b[0;34m()\u001b[0m\n\u001b[0;32m----> 1\u001b[0;31m \u001b[0;32mraise\u001b[0m \u001b[0mRuntimeError\u001b[0m\u001b[0;34m(\u001b[0m\u001b[0;34m'something wrong'\u001b[0m\u001b[0;34m)\u001b[0m\u001b[0;34m\u001b[0m\u001b[0;34m\u001b[0m\u001b[0m\n\u001b[0m",
            "\u001b[0;31mRuntimeError\u001b[0m: something wrong"
          ]
        }
      ]
    },
    {
      "cell_type": "markdown",
      "metadata": {
        "id": "D3R1DFujNRnu"
      },
      "source": [
        "**Write a function to compute 5/0 and use try/except to catch the exceptions.**"
      ]
    },
    {
      "cell_type": "code",
      "metadata": {
        "colab": {
          "base_uri": "https://localhost:8080/"
        },
        "id": "xvHSrpx-NVMV",
        "outputId": "350762a3-c1a0-4893-96d6-6bc9f17bc355"
      },
      "source": [
        "print(\"*******DIVISION*****\")\n",
        "\n",
        "\n",
        "try:\n",
        "  a= int(input(\"Enter a (Integer) :\"))\n",
        "  b= int(input(\"Enter b (Integer) :\"))\n",
        "  division = a/b\n",
        "  print(division)\n",
        "except ZeroDivisionError as e:\n",
        "  print(\"Please dont use zero as denoms\")"
      ],
      "execution_count": null,
      "outputs": [
        {
          "output_type": "stream",
          "text": [
            "*******DIVISION*****\n",
            "Enter a (Integer) :2\n",
            "Enter b (Integer) :0\n",
            "Please dont use zero as denoms\n"
          ],
          "name": "stdout"
        }
      ]
    },
    {
      "cell_type": "markdown",
      "metadata": {
        "id": "T4_1CaryQXZ0"
      },
      "source": [
        "**Define a custom exception class which takes a string message as attribute.**"
      ]
    },
    {
      "cell_type": "code",
      "metadata": {
        "colab": {
          "base_uri": "https://localhost:8080/"
        },
        "id": "lUwiQ7nLQahM",
        "outputId": "3ab8b303-c7b5-4789-cbe0-851f6b04f090"
      },
      "source": [
        "class CustomException(Exception):\n",
        "  def __init__(self,msg):\n",
        "    self.msg = msg\n",
        "  \n",
        "num = int(input())\n",
        "\n",
        "try:\n",
        "  if num > 10:\n",
        "    raise CustomException(\"Input is greaer than 10\")\n",
        "  elif num < 10:\n",
        "    raise CustomException(\"Input is less than 10\")\n",
        "except Exception as err:\n",
        "  print(err.msg)\n"
      ],
      "execution_count": null,
      "outputs": [
        {
          "output_type": "stream",
          "text": [
            "89\n",
            "Input is greaer than 10\n"
          ],
          "name": "stdout"
        }
      ]
    },
    {
      "cell_type": "code",
      "metadata": {
        "id": "PPgwyyKBRmWm"
      },
      "source": [
        ""
      ],
      "execution_count": null,
      "outputs": []
    },
    {
      "cell_type": "markdown",
      "metadata": {
        "id": "qXRyDmm2S1Yc"
      },
      "source": [
        "**Assuming that we have some email addresses in the \"username@companyname.com\" format, please write program to print the user name of a given email address. Both user names and company names are composed of letters only.**\n",
        "\n",
        "**Example**: If the following email address is given as input to the program:\n",
        "\n",
        "**john@google.com**\n",
        "Then, the output of the program should be:\n",
        "\n",
        "john\n",
        "In case of input data being supplied to the question, it should be assumed to be a console input.\n",
        "\n",
        "Hints\n",
        "**Use \\w to match letters**"
      ]
    },
    {
      "cell_type": "code",
      "metadata": {
        "colab": {
          "base_uri": "https://localhost:8080/"
        },
        "id": "DEb1pHGcS4Uc",
        "outputId": "289339a6-aeae-4200-cf4d-f2d9fc1590d8"
      },
      "source": [
        "import re\n",
        "email = input(\"Enter your email address :\")\n",
        "pattern = \"(\\w+).\\w+@\\w+.com\"\n",
        "ans = re.findall(pattern,email)\n",
        "print(\"As per your email your name or surname is :\", ans[0])"
      ],
      "execution_count": null,
      "outputs": [
        {
          "output_type": "stream",
          "text": [
            "Enter your email address :john.doe@google.com\n",
            "As per your email your name or surname is : john\n"
          ],
          "name": "stdout"
        }
      ]
    },
    {
      "cell_type": "code",
      "metadata": {
        "id": "Nyh6jLBvUTSj"
      },
      "source": [
        "email_new = input(\"Enter your email address :\")\n",
        "save = email_new.split('@')\n",
        "print(save)"
      ],
      "execution_count": null,
      "outputs": []
    },
    {
      "cell_type": "code",
      "metadata": {
        "id": "mcKjWYLsV5kt"
      },
      "source": [
        "print(\"Hello \")"
      ],
      "execution_count": null,
      "outputs": []
    },
    {
      "cell_type": "code",
      "metadata": {
        "id": "Fm7hcDXNYHci",
        "colab": {
          "base_uri": "https://localhost:8080/"
        },
        "outputId": "fb549e7f-c50b-43aa-f355-a7580e3dd709"
      },
      "source": [
        "user_inp = input().split()\n",
        "#print(user_inp)\n",
        "emp_list = []\n",
        "for word in user_inp:\n",
        "  if word.isdigit():\n",
        "    emp_list.append(word)\n",
        "print(emp_list)\n"
      ],
      "execution_count": null,
      "outputs": [
        {
          "output_type": "stream",
          "text": [
            "2 dogs and 3 cats\n",
            "['2', '3']\n"
          ],
          "name": "stdout"
        }
      ]
    },
    {
      "cell_type": "markdown",
      "metadata": {
        "id": "zcmLCbpBlGGf"
      },
      "source": [
        "**Print a unicode string \"hello world\".**"
      ]
    },
    {
      "cell_type": "code",
      "metadata": {
        "colab": {
          "base_uri": "https://localhost:8080/"
        },
        "id": "FKGiTSEBjwwB",
        "outputId": "9bcbbfc4-b990-466c-837c-bcad6af97de2"
      },
      "source": [
        "unicodeString = u\"hello world!\"\n",
        "print (unicodeString)"
      ],
      "execution_count": null,
      "outputs": [
        {
          "output_type": "stream",
          "text": [
            "hello world!\n"
          ],
          "name": "stdout"
        }
      ]
    },
    {
      "cell_type": "code",
      "metadata": {
        "colab": {
          "base_uri": "https://localhost:8080/"
        },
        "id": "5OC6jwpMmAwN",
        "outputId": "218ff9e2-ec7d-45a3-8bae-add20f6aa2fb"
      },
      "source": [
        "user_inp = input()\n",
        "res = user_inp.encode('utf-8')\n",
        "print(res)"
      ],
      "execution_count": null,
      "outputs": [
        {
          "output_type": "stream",
          "text": [
            "hello world\n",
            "b'hello world'\n"
          ],
          "name": "stdout"
        }
      ]
    },
    {
      "cell_type": "markdown",
      "metadata": {
        "id": "MYHJxeOpEuf-"
      },
      "source": [
        "**Write a program to compute:\n",
        "\n",
        "f(n)=f(n-1)+100 when n>0\n",
        "and f(0)=0\n",
        "with a given n input by console (n>0).**"
      ]
    },
    {
      "cell_type": "code",
      "metadata": {
        "colab": {
          "base_uri": "https://localhost:8080/"
        },
        "id": "9eKCG-eeFATH",
        "outputId": "fc9bc6d2-d7dd-40c8-9382-19fe61f3e722"
      },
      "source": [
        "n = int(input(\"Enter an integer :\"))\n",
        "\n",
        "def f(n):\n",
        "  if n==0:\n",
        "    return 0\n",
        "  return f(n-1) + 100\n",
        "\n",
        "print(f(n))\n"
      ],
      "execution_count": null,
      "outputs": [
        {
          "output_type": "stream",
          "text": [
            "Enter an integer :5\n",
            "500\n"
          ],
          "name": "stdout"
        }
      ]
    },
    {
      "cell_type": "markdown",
      "metadata": {
        "id": "fU1TvHAIKEdE"
      },
      "source": [
        "**The Fibonacci Sequence is computed based on the following formula:\n",
        "\n",
        "f(n)=0 if n=0\n",
        "f(n)=1 if n=1\n",
        "f(n)=f(n-1)+f(n-2) if n>1**"
      ]
    },
    {
      "cell_type": "code",
      "metadata": {
        "colab": {
          "base_uri": "https://localhost:8080/"
        },
        "id": "x-b1pDoIKKaP",
        "outputId": "a2ad101a-0626-4a40-b5e7-ddd1be304038"
      },
      "source": [
        "n = int(input(\"Enter a numnr :\"))\n",
        "def f(n):\n",
        "  if n==0:\n",
        "    return 0\n",
        "  elif n==1:\n",
        "    return 1\n",
        "  return f(n-1)+f(n-2)\n",
        "\n",
        "print(f(n))"
      ],
      "execution_count": null,
      "outputs": [
        {
          "output_type": "stream",
          "text": [
            "Enter a numnr :2\n",
            "1\n"
          ],
          "name": "stdout"
        }
      ]
    },
    {
      "cell_type": "code",
      "metadata": {
        "colab": {
          "base_uri": "https://localhost:8080/"
        },
        "id": "g64EhDEoMISg",
        "outputId": "42b61d8a-dd26-42a9-91dd-5d293aba80eb"
      },
      "source": [
        "n = int(input(\"Enter a digit :\"))\n",
        "def fact(n):\n",
        "  if n == 1 or n == 0:\n",
        "    return 1\n",
        "  else:\n",
        "    return n*fact(n-1)\n",
        "\n",
        "fact(n)"
      ],
      "execution_count": 2,
      "outputs": [
        {
          "output_type": "stream",
          "text": [
            "Enter a digit :5\n"
          ],
          "name": "stdout"
        },
        {
          "output_type": "execute_result",
          "data": {
            "text/plain": [
              "120"
            ]
          },
          "metadata": {
            "tags": []
          },
          "execution_count": 2
        }
      ]
    },
    {
      "cell_type": "markdown",
      "metadata": {
        "id": "F6ZjrYm1K9-d"
      },
      "source": [
        "**Please write a program to output a random even number between 0 and 10 inclusive using random module and list comprehension.**\n"
      ]
    },
    {
      "cell_type": "code",
      "metadata": {
        "colab": {
          "base_uri": "https://localhost:8080/"
        },
        "id": "CB6YitEtLGKJ",
        "outputId": "00bf7a4f-4efa-44dc-a2ae-79510eb8ed83"
      },
      "source": [
        "import random\n",
        "\n",
        "resp = [i for i in range(0,11,2)]\n",
        "print(random.choice(resp))\n",
        "  "
      ],
      "execution_count": 4,
      "outputs": [
        {
          "output_type": "stream",
          "text": [
            "8\n"
          ],
          "name": "stdout"
        }
      ]
    },
    {
      "cell_type": "markdown",
      "metadata": {
        "id": "gurZGIUrMWM_"
      },
      "source": [
        "**Please write a program to output a random number, which is divisible by 5 and 7, between 10 and 150 inclusive using random module and list comprehension.\n",
        "**"
      ]
    },
    {
      "cell_type": "code",
      "metadata": {
        "colab": {
          "base_uri": "https://localhost:8080/"
        },
        "id": "1nNoiMLwMrVt",
        "outputId": "1251daad-57fc-42ab-da1f-9c1393bc2808"
      },
      "source": [
        "import random\n",
        "\n",
        "num = random.choice(range(10,150))\n",
        "print(num)\n",
        "if num%5==0 and num%7==0:\n",
        "  print(num)"
      ],
      "execution_count": 42,
      "outputs": [
        {
          "output_type": "stream",
          "text": [
            "35\n",
            "35\n"
          ],
          "name": "stdout"
        }
      ]
    },
    {
      "cell_type": "markdown",
      "metadata": {
        "id": "DWYMezDwRfLm"
      },
      "source": [
        "**Please write a program to generate a list with 5 random numbers between 100 and 200 inclusive.\n",
        "**"
      ]
    },
    {
      "cell_type": "code",
      "metadata": {
        "colab": {
          "base_uri": "https://localhost:8080/"
        },
        "id": "0FKZwzNrR5IZ",
        "outputId": "0fdda32a-db3a-4864-a54b-ee1a0a2665c3"
      },
      "source": [
        "import random\n",
        "from random import sample\n",
        "num = random.sample(range(100,200),5)\n",
        "print(num)\n"
      ],
      "execution_count": 50,
      "outputs": [
        {
          "output_type": "stream",
          "text": [
            "[177, 175, 101, 165, 158]\n"
          ],
          "name": "stdout"
        }
      ]
    },
    {
      "cell_type": "code",
      "metadata": {
        "colab": {
          "base_uri": "https://localhost:8080/"
        },
        "id": "qUH7WMekSy1N",
        "outputId": "9a0f89d4-bfee-449b-fff4-85ec03bc48b3"
      },
      "source": [
        "from random import sample\n",
        "num = random.sample(range(100,201,2),5)\n",
        "print(num)"
      ],
      "execution_count": 56,
      "outputs": [
        {
          "output_type": "stream",
          "text": [
            "[148, 140, 136, 166, 126]\n"
          ],
          "name": "stdout"
        }
      ]
    },
    {
      "cell_type": "code",
      "metadata": {
        "id": "JY0fk47xUGBr"
      },
      "source": [
        ""
      ],
      "execution_count": null,
      "outputs": []
    }
  ]
}